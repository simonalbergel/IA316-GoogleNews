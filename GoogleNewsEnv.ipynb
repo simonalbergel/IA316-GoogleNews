{
  "nbformat": 4,
  "nbformat_minor": 0,
  "metadata": {
    "kernelspec": {
      "display_name": "Python 3",
      "language": "python",
      "name": "python3"
    },
    "language_info": {
      "codemirror_mode": {
        "name": "ipython",
        "version": 3
      },
      "file_extension": ".py",
      "mimetype": "text/x-python",
      "name": "python",
      "nbconvert_exporter": "python",
      "pygments_lexer": "ipython3",
      "version": "3.7.4"
    },
    "colab": {
      "name": "GoogleNewsEnv.ipynb",
      "provenance": [],
      "collapsed_sections": []
    }
  },
  "cells": [
    {
      "cell_type": "markdown",
      "metadata": {
        "collapsed": true,
        "id": "fZ5SKSsasvIR",
        "colab_type": "text"
      },
      "source": [
        "# Google News Recommendations"
      ]
    },
    {
      "cell_type": "code",
      "metadata": {
        "id": "GHnUW42csvIV",
        "colab_type": "code",
        "colab": {}
      },
      "source": [
        "%matplotlib inline\n",
        "import numpy as np\n",
        "import matplotlib.pyplot as plt\n",
        "from copy import copy, deepcopy\n",
        "import random\n",
        "from scipy.stats import norm\n",
        "from sklearn.preprocessing import LabelBinarizer"
      ],
      "execution_count": 0,
      "outputs": []
    },
    {
      "cell_type": "code",
      "metadata": {
        "id": "BQVVWlbTsvIe",
        "colab_type": "code",
        "colab": {}
      },
      "source": [
        "def random_argmax(rng, list_):\n",
        "    \"\"\" similar to np.argmax but return a random element among max\n",
        "        when multiple max exists.\"\"\"\n",
        "    return rng.choice(np.argwhere(list_ == list_.max()).flatten())"
      ],
      "execution_count": 0,
      "outputs": []
    },
    {
      "cell_type": "code",
      "metadata": {
        "id": "IYvK33AqsvIl",
        "colab_type": "code",
        "colab": {}
      },
      "source": [
        "np.set_printoptions(precision=2)"
      ],
      "execution_count": 0,
      "outputs": []
    },
    {
      "cell_type": "markdown",
      "metadata": {
        "id": "V1-9hBK5svIq",
        "colab_type": "text"
      },
      "source": [
        "## Environment\n",
        "\n"
      ]
    },
    {
      "cell_type": "code",
      "metadata": {
        "id": "2LTjrWiqoXz6",
        "colab_type": "code",
        "colab": {}
      },
      "source": [
        "class Users:\n",
        "    \"\"\"\n",
        "        Google News Users Class. \n",
        "        Init input :\n",
        "            n_sources : int, Number of different sources (news website)\n",
        "            n_themes : int, Number of different themes (7 at the moment on Google News)\n",
        "            n_users : int, Number of Users\n",
        "        Attributes :\n",
        "            all of the above\n",
        "            self.users_data : list, [preferences_sources, preferences_themes, next_log]\n",
        "    \"\"\"\n",
        "    def __init__(self, n_themes, n_sources, n_users):\n",
        "        self.n_users = n_users\n",
        "        self.n_themes = n_themes\n",
        "        self.n_sources = n_sources\n",
        "\n",
        "        self.users_data = None\n",
        "\n",
        "        #Call Maker function\n",
        "        self.make_users_data()\n",
        "\n",
        "    def make_users_data(self):\n",
        "        \"\"\"\n",
        "            Makes up Data on every users.\n",
        "            Each users_data is made of :\n",
        "                preferences_sources : np.array(self.n_users, self.n_sources), stochastic vector \n",
        "                                     embedding user's preferences in regard to an article's theme\n",
        "                preferences_themes : np.array(self.n_users, self.n_sources), stochastic vector \n",
        "                                     embedding user's preferences in regard to an article's source \n",
        "                next_log : int, in how many days will it be before the user next log\n",
        "\n",
        "            Returns Nothing.\n",
        "            Updates self.users_data.\n",
        "        \"\"\"\n",
        "        ##Sources (Uniform for maximum entropy, continuous)\n",
        "        preferences_sources = np.random.rand(self.n_users, self.n_sources)\n",
        "        preferences_sources = preferences_sources / preferences_sources.sum(axis=1)[:,None]\n",
        "\n",
        "        ##Themes (Uniform for maximum entropy, discrete (0-1))\n",
        "        preferences_themes = np.random.randint(0, 2, size=(self.n_users, self.n_themes))\n",
        "        #Stochastic Vector (normalizing)\n",
        "        preferences_themes = preferences_themes / preferences_themes.sum(axis=1)[:,None]\n",
        "\n",
        "        ##Next Log\n",
        "        #On the first iteration, every user will log in the next day\n",
        "        next_log = np.ones((self.n_users, 1))\n",
        "\n",
        "        ##Save up everything\n",
        "        self.users_data = [preferences_themes, preferences_sources, next_log]\n",
        "\n",
        "    def set_next_log(self, index_user, next_log_i):\n",
        "        self.users_data[2][index_user] = next_log_i"
      ],
      "execution_count": 0,
      "outputs": []
    },
    {
      "cell_type": "code",
      "metadata": {
        "id": "XEYTt0iutmlw",
        "colab_type": "code",
        "colab": {}
      },
      "source": [
        "class Items:\n",
        "    \"\"\"\n",
        "        Google News Items (articles) Class.\n",
        "        Init Input :\n",
        "            n_exp : int, Experience Span (in days)\n",
        "            n_articles : int, Number of articles per day\n",
        "            n_sources : int, Number of different sources (news website)\n",
        "            n_themes : int, Number of different themes (7 at the moment on Google news)\n",
        "        Attributes :\n",
        "            all of the above \n",
        "            self.articles : np.array(size=(3, n_exp, n_articles)), [source, theme, hours]\n",
        "    \"\"\"\n",
        "    def __init__(self, n_exp, n_articles, n_themes, n_sources):\n",
        "        self.n_exp = n_exp\n",
        "        self.n_articles = n_articles\n",
        "        self.n_themes = n_themes\n",
        "        self.n_sources = n_sources\n",
        "        self.articles = None\n",
        "        \n",
        "        #Call maker function\n",
        "        self.make_articles()\n",
        "\n",
        "    def make_articles(self):\n",
        "        \"\"\"\n",
        "            Makes up every articles on the whole experience span.\n",
        "            Within a single day, there are n_articles articles. Each article is made of :\n",
        "                hour : int 0-23, Hour at which the article is published\n",
        "                theme : int 0-(n_themes-1), Index of the theme the article belongs to\n",
        "                source : int 0-(n_sources-1), Index of the source the article comes from\n",
        "            Returns Nothing.\n",
        "            Updates self.articles. Expected dimension : (3, n_exp, n_articles)\n",
        "        \"\"\"\n",
        "        ##Themes\n",
        "        #To each day its headline; each day a theme is prevailing over the others\n",
        "        headlines = np.asarray([np.random.randint(0, self.n_themes, self.n_articles)] * self.n_exp)\n",
        "        #Centered on the headline, Normal draw themes for each article of each day\n",
        "        themes = np.random.normal(loc=headlines, scale=1.0, size=(self.n_exp, self.n_articles))\n",
        "        #Make draws positive then rounding them \n",
        "        themes = np.round(np.abs(themes)).astype(int)\n",
        "        np.clip(themes, 0, self.n_themes-1, out=themes)\n",
        "\n",
        "        ##Sources\n",
        "        sources = np.random.randint(0, self.n_sources, size=(self.n_exp, self.n_articles))\n",
        "\n",
        "        ##Hours\n",
        "        #Morning Articles (guassian centered on 10 am)\n",
        "        hours_morning = np.random.normal(10, 2, size=(self.n_exp, self.n_articles // 2))\n",
        "        #Evening Articles (gaussian centered on 5 pm)\n",
        "        hours_evening = np.random.normal(17, 2, size=(self.n_exp, self.n_articles // 2))\n",
        "        #Concatenate\n",
        "        hours = np.concatenate((hours_morning, hours_evening), axis=1)\n",
        "        hours = np.round(np.abs(hours)).astype(int)\n",
        "        #Clip between 0 and 23 (all hours of a day)\n",
        "        np.clip(hours, 0, 23, out=hours)\n",
        "        #Absolute hour time index\n",
        "        hours = hours + np.arange(self.n_exp).reshape(-1, 1) * 24\n",
        "\n",
        "        ##Save up Everything\n",
        "        self.articles = np.asarray([sources, themes, hours])"
      ],
      "execution_count": 0,
      "outputs": []
    },
    {
      "cell_type": "code",
      "metadata": {
        "id": "EURYqg2VsvIs",
        "colab_type": "code",
        "colab": {}
      },
      "source": [
        "class GoogleNewsEnv:\n",
        "    \"\"\" \n",
        "        Explicit Feedback for Google News.\n",
        "    \"\"\"\n",
        "    def __init__(self, \n",
        "                 n_exp=100, \n",
        "                 n_articles=20, \n",
        "                 n_themes=7, \n",
        "                 n_sources=7,\n",
        "                 n_users=5,\n",
        "                 tau=72,\n",
        "                 seed=None):\n",
        "        \n",
        "        self.n_exp = n_exp\n",
        "        self.n_articles = n_articles\n",
        "        self.n_themes = n_themes\n",
        "        self.n_sources = n_sources\n",
        "        self.n_users = n_users\n",
        "        self.date = 0\n",
        "        self.tau = tau\n",
        "        self.users = Users(self.n_themes, self.n_sources, self.n_users)\n",
        "        self.items = Items(self.n_exp, self.n_articles, self.n_themes, self.n_sources)   \n",
        "        self._rng = np.random.RandomState(seed) \n",
        "        self.next_logs = None\n",
        "        self.hours_users_loggedin = None\n",
        "        self.index_users_loggedin = np.argwhere(self.users.users_data[2] == 0)\n",
        "        self.done = False\n",
        "        self._next_state()\n",
        "                \n",
        "\n",
        "    def step(self, action):\n",
        "        # check if behind done\n",
        "        if self.done: #self.date >= self.n_exp:\n",
        "            print(\"You are calling step after it return done=True.\\n\"\n",
        "                  \"You should reset the environment.\")\n",
        "\n",
        "        self.action = action\n",
        "\n",
        "        # compute potential rewards\n",
        "        potential_rewards = self.compute_best_reward()\n",
        "        optimal_return = np.max(potential_rewards)\n",
        "\n",
        "        # compute reward associated with action\n",
        "        self.reward = self.compute_reward(action)\n",
        "\n",
        "        # when will the users will come back\n",
        "        self.update_next_logs()\n",
        "        \n",
        "        # check if done\n",
        "        if self.date == self.n_exp:\n",
        "            self.done = True\n",
        "\n",
        "        # compute next state S_{t+1}\n",
        "        self._next_state()\n",
        "\n",
        "        return self.reward, self.state, self.done, optimal_return\n",
        "\n",
        "    def update_next_logs(self):\n",
        "        for index_user, _ in enumerate(self.index_users_loggedin):\n",
        "            self.users.set_next_log(index_user, self.next_logs[index_user])\n",
        "\n",
        "    def compute_reward(self, action):        \n",
        "        lambdas_list = []\n",
        "        k = 0\n",
        "        for index_user, _ in enumerate(self.index_users_loggedin):\n",
        "            lambda_temp = 1 + 5 * self.users.users_data[0][index_user][self.state[k][self.action[k]][0]]\n",
        "            lambda_temp += 5 * self.users.users_data[1][index_user][self.state[k][self.action[k]][1]]\n",
        "            lambda_temp *= 10 * (1 - np.exp(- np.abs(self.hours_users_loggedin[k] - self.state[k][self.action[k]][2]) / self.tau))\n",
        "            lambdas_list.append(lambda_temp)\n",
        "            k += 1\n",
        "\n",
        "        next_logs = np.random.poisson(np.round(np.asarray(lambdas_list).astype(np.float64), decimals=5),  size=(1, len(lambdas_list)))\n",
        "        self.next_logs = next_logs.reshape(-1)\n",
        "\n",
        "        reward = 1 / (next_logs.sum() + 1)**2\n",
        "        return reward\n",
        "\n",
        "    def compute_best_reward(self):\n",
        "        best_logs = []\n",
        "        for index_user, _ in enumerate(self.index_users_loggedin):\n",
        "            lambda_list_temp = []\n",
        "            k = 0\n",
        "            for j in range(len(self.state[k])):\n",
        "                lambda_temp = 1 + 5 * self.users.users_data[0][index_user][self.state[k][j][0]]\n",
        "                lambda_temp += 5 * self.users.users_data[1][index_user][self.state[k][j][1]]\n",
        "                lambda_temp *= 10 * (1 - np.exp(- np.abs(self.hours_users_loggedin[k] - self.state[k][j][2]) / self.tau))\n",
        "                lambda_list_temp.append(lambda_temp)\n",
        "            print(lambda_list_temp)\n",
        "            next_logs_temp = np.random.poisson(np.round(np.asarray(lambda_list_temp).astype(np.float64), decimals=5),  size=(1, len(lambda_list_temp)))\n",
        "            best_logs.append(min(next_logs_temp))\n",
        "            k+=1\n",
        "\n",
        "        reward = 1 / (np.asarray(best_logs).sum() + 1)**2\n",
        "        return reward\n",
        "\n",
        "    def reset(self, seed=None):\n",
        "        self._rng = np.random.RandomState(seed)\n",
        "        self.date = 0\n",
        "        self.done = False\n",
        "\n",
        "        self.users = Users(self.n_themes, self.n_sources, self.n_users)\n",
        "        self.items = Items(self.n_exp, self.n_articles, self.n_themes, self.n_sources)\n",
        "\n",
        "        self._next_state()\n",
        "        return self.state\n",
        "\n",
        "    def _next_state(self):\n",
        "        #Time flies\n",
        "        self.date += 1\n",
        "        self.users.users_data[2] = self.users.users_data[2] - 1\n",
        "\n",
        "        #Which users are logging in ?\n",
        "        self.index_users_loggedin = np.argwhere(self.users.users_data[2] == 0)\n",
        "\n",
        "        #and at what time ?\n",
        "        #Morning Log in (50% of the population) (guassian centered on 8 am)\n",
        "        hours_morning = np.random.normal(9, 1, size=(1, (self.index_users_loggedin.shape[0] // 2)))\n",
        "        #Evening Log in (gaussian centered on 5 pm)\n",
        "        hours_evening = np.random.normal(19, 1, size=(1, (self.index_users_loggedin.shape[0] // 2 + 1 * (self.index_users_loggedin.shape[0] % 2 == 1))))\n",
        "        #Concatenate\n",
        "        hours = np.concatenate((hours_morning, hours_evening), axis=1)\n",
        "        hours = np.round(np.abs(hours)).astype(int)\n",
        "        #Clip between 0 and 23 (all hours of a day)\n",
        "        np.clip(hours, 0, 23, out=hours)\n",
        "        self.hours_users_loggedin = hours.reshape(-1)\n",
        "\n",
        "        #context : every articles published at the time of each user logging in \n",
        "        context = []\n",
        "        k = 0\n",
        "        for _ in enumerate(self.index_users_loggedin):\n",
        "            articles = []\n",
        "            for coords in np.argwhere(self.items.articles[2, :, :] < 24 * self.date + self.hours_users_loggedin[k]):\n",
        "                article = []\n",
        "                article.append(self.items.articles[0, coords[0], coords[1]])\n",
        "                article.append(self.items.articles[1, coords[0], coords[1]])\n",
        "                article.append(self.items.articles[2, coords[0], coords[1]])\n",
        "                articles.append(article)\n",
        "            context.append(articles)\n",
        "            k += 1\n",
        "        self.state = context"
      ],
      "execution_count": 0,
      "outputs": []
    },
    {
      "cell_type": "code",
      "metadata": {
        "id": "AQnSMtjJMD_s",
        "colab_type": "code",
        "colab": {}
      },
      "source": [
        "env = GoogleNewsEnv()"
      ],
      "execution_count": 0,
      "outputs": []
    },
    {
      "cell_type": "code",
      "metadata": {
        "id": "YeDcVwAhMGox",
        "colab_type": "code",
        "outputId": "04f6db75-9d77-4253-87ee-c665b7de1d6b",
        "colab": {
          "base_uri": "https://localhost:8080/",
          "height": 71
        }
      },
      "source": [
        "##############################################\n",
        "#CONTEXTE : Tous les articles disponibles pour chacun des 5 users [source, theme, hours]\n",
        "print(env.state)\n",
        "print(len(env.state))"
      ],
      "execution_count": 39,
      "outputs": [
        {
          "output_type": "stream",
          "text": [
            "[[[2, 5, 10], [1, 4, 12], [3, 5, 9], [2, 1, 9], [1, 1, 11], [2, 1, 7], [4, 5, 10], [4, 5, 11], [2, 5, 12], [6, 3, 14], [4, 1, 17], [0, 1, 15], [1, 5, 13], [1, 4, 17], [0, 6, 19], [4, 0, 16], [5, 1, 18], [2, 0, 17], [0, 1, 21], [3, 6, 15], [2, 4, 32], [0, 2, 33], [2, 1, 32], [1, 5, 32], [2, 5, 30]], [[2, 5, 10], [1, 4, 12], [3, 5, 9], [2, 1, 9], [1, 1, 11], [2, 1, 7], [4, 5, 10], [4, 5, 11], [2, 5, 12], [6, 3, 14], [4, 1, 17], [0, 1, 15], [1, 5, 13], [1, 4, 17], [0, 6, 19], [4, 0, 16], [5, 1, 18], [2, 0, 17], [0, 1, 21], [3, 6, 15]], [[2, 5, 10], [1, 4, 12], [3, 5, 9], [2, 1, 9], [1, 1, 11], [2, 1, 7], [4, 5, 10], [4, 5, 11], [2, 5, 12], [6, 3, 14], [4, 1, 17], [0, 1, 15], [1, 5, 13], [1, 4, 17], [0, 6, 19], [4, 0, 16], [5, 1, 18], [2, 0, 17], [0, 1, 21], [3, 6, 15], [5, 3, 35], [2, 4, 32], [1, 5, 35], [0, 2, 33], [2, 1, 32], [4, 1, 34], [0, 6, 35], [1, 5, 32], [2, 5, 30], [1, 2, 36], [3, 3, 38], [1, 6, 39], [2, 4, 40], [1, 6, 40], [6, 1, 39], [6, 0, 40], [0, 1, 39], [4, 1, 37], [3, 4, 42]], [[2, 5, 10], [1, 4, 12], [3, 5, 9], [2, 1, 9], [1, 1, 11], [2, 1, 7], [4, 5, 10], [4, 5, 11], [2, 5, 12], [6, 3, 14], [4, 1, 17], [0, 1, 15], [1, 5, 13], [1, 4, 17], [0, 6, 19], [4, 0, 16], [5, 1, 18], [2, 0, 17], [0, 1, 21], [3, 6, 15], [5, 3, 35], [2, 4, 32], [1, 5, 35], [0, 2, 33], [2, 1, 32], [4, 1, 34], [0, 6, 35], [1, 5, 32], [2, 5, 30], [1, 2, 36], [3, 3, 38], [1, 6, 39], [2, 4, 40], [1, 6, 40], [6, 1, 39], [6, 0, 40], [0, 1, 39], [4, 1, 37], [3, 4, 42]], [[2, 5, 10], [1, 4, 12], [3, 5, 9], [2, 1, 9], [1, 1, 11], [2, 1, 7], [4, 5, 10], [4, 5, 11], [2, 5, 12], [6, 3, 14], [4, 1, 17], [0, 1, 15], [1, 5, 13], [1, 4, 17], [0, 6, 19], [4, 0, 16], [5, 1, 18], [2, 0, 17], [0, 1, 21], [3, 6, 15], [5, 3, 35], [2, 4, 32], [1, 5, 35], [0, 2, 33], [2, 1, 32], [4, 1, 34], [0, 6, 35], [1, 5, 32], [2, 5, 30], [1, 2, 36], [3, 3, 38], [1, 6, 39], [2, 4, 40], [1, 6, 40], [6, 1, 39], [6, 0, 40], [0, 1, 39], [4, 1, 37], [3, 4, 42]]]\n",
            "5\n"
          ],
          "name": "stdout"
        }
      ]
    },
    {
      "cell_type": "markdown",
      "metadata": {
        "id": "DRP015hlsvJX",
        "colab_type": "text"
      },
      "source": [
        "## Agent"
      ]
    },
    {
      "cell_type": "code",
      "metadata": {
        "id": "PYCzNvjgsvJY",
        "colab_type": "code",
        "colab": {}
      },
      "source": [
        "class Random:\n",
        "    \"\"\" Random agent. \"\"\"\n",
        "    def __init__(self, nb_arms, seed=None):\n",
        "        self._nb_arms = nb_arms\n",
        "        self._rng = np.random.RandomState(seed)\n",
        "        \n",
        "    def act(self, context):\n",
        "        #context : expected : list of list\n",
        "        actions = []\n",
        "        for i in range(len(context)):\n",
        "            action = self._rng.randint(len(context[i])) # note that action size is changing\n",
        "            actions.append(action)\n",
        "        return actions\n",
        "        \n",
        "    def update(self, context, action, reward):\n",
        "        pass"
      ],
      "execution_count": 0,
      "outputs": []
    },
    {
      "cell_type": "code",
      "metadata": {
        "id": "Mg-hxlMGsvJc",
        "colab_type": "code",
        "colab": {}
      },
      "source": [
        "agent = Random(None, seed=2020)"
      ],
      "execution_count": 0,
      "outputs": []
    },
    {
      "cell_type": "markdown",
      "metadata": {
        "id": "InUtsj__svJl",
        "colab_type": "text"
      },
      "source": [
        "## Run experiment"
      ]
    },
    {
      "cell_type": "code",
      "metadata": {
        "id": "O-HJw3DasvJn",
        "colab_type": "code",
        "colab": {}
      },
      "source": [
        "def run_exp(agent, env, nb_steps, env_seed):\n",
        "    rewards = np.zeros(nb_steps)\n",
        "    regrets = np.zeros(nb_steps)\n",
        "    actions = np.zeros(nb_steps)\n",
        "    context = env.reset(env_seed)\n",
        "    for i in range(nb_steps):\n",
        "        # Select action from agent policy.\n",
        "        action = agent.act(context)\n",
        "        \n",
        "        # Play action in the environment and get reward.\n",
        "        reward, next_context, done, optimal_return = env.step(action)\n",
        "        \n",
        "        # Update history\n",
        "        rating = reward\n",
        "        \n",
        "        # Update agent.\n",
        "        agent.update(context, action, reward)\n",
        "        context = next_context\n",
        "        \n",
        "        # Save history.\n",
        "        #context[i] = context\n",
        "        rewards[i] = reward\n",
        "        regrets[i] = optimal_return - reward\n",
        "\n",
        "    reward = rewards.sum()\n",
        "    regret = np.sum(regrets)\n",
        "    return {'reward': reward, \n",
        "            'regret': regret,\n",
        "            'rewards': rewards,\n",
        "            'regrets': regrets,\n",
        "            'cum_rewards': np.cumsum(rewards), \n",
        "            'cum_regrets': np.cumsum(regrets)\n",
        "            }\n"
      ],
      "execution_count": 0,
      "outputs": []
    },
    {
      "cell_type": "markdown",
      "metadata": {
        "id": "ideihO6vsvJr",
        "colab_type": "text"
      },
      "source": [
        "#### Example\n",
        "Let's run our previous agent and environment 100 times."
      ]
    },
    {
      "cell_type": "code",
      "metadata": {
        "id": "wDzNL3DXsvJt",
        "colab_type": "code",
        "outputId": "25eb07f4-cca4-447c-95a3-d29540fdc9ae",
        "colab": {
          "base_uri": "https://localhost:8080/",
          "height": 360
        }
      },
      "source": [
        "env = GoogleNewsEnv()\n",
        "run_exp(agent, env, nb_steps=15, env_seed=2020)"
      ],
      "execution_count": 45,
      "outputs": [
        {
          "output_type": "stream",
          "text": [
            "[0.4026407948145009, 0.7407040366798231, 1.0044885348581414, 0.8494960634800492, 0.5478741876018844, 0.0, 0.9608044399340933, 0.0, 0.5604405807521932, 0.5478741876018844, 1.2185946885321257, 3.1769796454555346, 2.582337136602768, 5.194845002952678, 0.4232357435404675, 1.3448292326689002, 1.8471028445091524, 1.3171645806007484, 1.5467044248072606, 1.5990709325192676, 7.982456634264025, 4.298486981138876, 10.026266489708261]\n",
            "[0.4923597684941498, 0.8270521432967486, 0.3724453026638569, 0.7339096308633688, 0.2941085913978876, 0.0, 2.7969089766298185, 0.0, 1.6314467606758365, 0.2941085913978876, 3.5473383360538104, 2.372307361899765, 0.9087410471515246, 1.9261500278744106, 0.8239370150460841, 3.9148080468319333, 2.7708083121054505, 2.7022775929339864, 1.4305325771157213, 1.8865612859271634, 7.0266838640449265, 6.448088958458451, 3.717549506799743]\n",
            "[0.15547657856731245, 0.4845869985248467, 0.8032867565000842, 1.5399000905679958, 0.3149630283841879, 0.0, 1.6387669593958634, 0.0, 0.9558984828424851, 0.3149630283841879, 3.547247797876163, 3.547247797876163, 2.2159438505931948, 4.154303457064197, 1.232010998722505, 2.2937672026980436, 1.8794949999457033, 2.499904146956488, 1.5319677352813315, 2.3444437658389883, 6.500455829190333, 7.791961347583763, 8.017978114066432]\n",
            "[0.24984225319131026, 0.5357709456456475, 0.857620887454179, 0.7522854717421497, 0.24795839402849482, 0.0, 2.9699304761028196, 0.0, 1.7323708047548956, 0.24795839402849482, 2.297993941780623, 3.76678265947318, 2.117381245648044, 4.43529958482639, 0.7981268782424794, 4.1569846654032006, 3.1045215885965174, 1.9048651066227706, 2.0446603342871588, 1.5035765843466489, 8.371279439590188, 3.8065971643663685, 8.560312304580012]\n",
            "[0.1893192353650744, 0.5386242846127509, 0.7905479849132478, 1.0493950827879621, 0.24102843415260022, 0.0, 1.821509210603287, 0.0, 1.9631681935312781, 0.24102843415260022, 4.26861725487758, 4.26861725487758, 2.0761835667155912, 4.088423218888081, 0.8023774381895803, 4.710804438470934, 2.281753531018081, 1.443421202190698, 2.290486781433367, 2.307264846369024, 8.31075945850929, 9.867441947167693, 7.890826519748652]\n",
            "[3.430141447447988, 2.1617920961275088, 2.9316640220305463, 2.413247385609005, 3.680025386978688, 3.405762961621859, 0.14304247841218043, 3.405762961621859, 0.5604405807521932, 3.680025386978688, 0.14304247841218043, 0.3729238660135762, 1.5708698760636146, 1.4963657605407574, 0.6957529676620869, 0.2841119886189621, 0.2168187431368507, 0.0, 0.9408807834055376, 0.5478964867972803, 6.45723065024788, 5.489939823004602, 4.638704221330594, 3.9851503238557813, 7.915011783213819, 3.477165383543676, 6.557515225934748, 2.9562872606318766, 3.471108241473493, 6.8955714011192875, 4.678637206744369, 9.730951559662051, 5.746243702297987, 12.421342887914838, 2.9397815623425188, 3.2977251194033346, 5.265586229441019, 5.293347716686358, 8.848026497275207, 5.059520980481918, 14.40179983102714, 4.583504909478999, 7.3055090139534915, 15.33460019849646, 17.2455036062108, 8.993006043267984, 11.738570682312393, 16.20515259992226, 5.535723373292178, 16.20515259992226, 4.819685329320698, 17.861245628021912, 19.04258607112009, 10.304095896455836, 9.587802283417746]\n",
            "[4.1358989410822575, 2.8432727079681728, 3.855838088085971, 2.777782142294527, 4.667400777772449, 4.199699283193202, 0.4232357435404675, 4.199699283193202, 0.8291990066162301, 4.667400777772449, 0.14304247841218043, 0.3729238660135762, 2.582337136602768, 0.5057320187759887, 0.9608044399340933, 0.0, 0.2168187431368507, 0.3431359640911313, 1.5467044248072606, 1.0807830628526325, 5.816858518757473, 4.822321839149359, 4.2060342418554875, 3.534071575785393, 7.019112427858996, 3.1323302787113834, 5.980654342144352, 2.5967804892881032, 3.103981642265199, 6.057018042655405, 4.345523290162038, 9.070694120634226, 5.293347716686358, 11.652374160379223, 2.7304722898225675, 3.037811592305429, 4.85057374672087, 4.82769492948718, 8.274996336625371, 4.638704221330594, 13.873107004043494, 4.420494684136355, 7.068507543451497, 14.733750461570281, 16.612417869615474, 8.682984455828752, 11.307645506876424, 15.628823866955871, 5.338847940116855, 15.628823866955871, 4.663327639771049, 15.661030202907378, 17.2455036062108, 18.46011907518407, 4.971759518208254, 4.971759518208254, 9.979581742331929, 10.88468549755426, 11.052547101207796, 9.294534427214098, 15.44907317500937, 5.925803944239986, 18.505393824299215, 21.16765960156398, 22.446010809641134, 11.545862323909455, 9.52843832525731, 11.777453875200582, 15.44907317500937, 12.112999634374622, 16.522682356110373, 6.393237007913944, 14.334544958349852, 9.606323295948169, 10.086249586555526, 6.2812018277026445, 22.988781015603916, 23.728958575793914, 7.853028942916871, 9.520824169077098, 7.357921456955962, 8.570301331369873, 25.088508138290493, 13.857485134355676, 15.775083748976233, 27.690971970973862, 23.400095027740036, 14.108143688613634, 7.00385721136318, 14.933640090988106, 19.50327896226422, 23.79887622588625, 15.48465076596104, 21.280272288158365, 11.776204317311395, 21.280272288158365, 23.60888547730304, 19.709680473827092, 9.130637712776803, 26.865888774901833]\n",
            "[3.069842633694585, 1.8138869612096302, 2.4598605729636898, 2.2271474269258302, 3.1759568007559924, 3.0004476551064867, 0.0, 3.0004476551064867, 0.4232357435404675, 3.1759568007559924, 0.2841119886189621, 0.7407040366798231, 1.0545020621760954, 1.981458581073209, 0.5604405807521932, 0.4232357435404675, 0.430646930661886, 0.17275940721310515, 0.6315995624342985, 0.275850631174593, 6.770807616545909, 5.816858518757473, 4.85057374672087, 4.2060342418554875, 8.353715137319309, 3.6460239904832146, 6.839992049987014, 3.1323302787113834, 3.6508825313994326, 7.306193608575647, 4.841756190623989, 10.054265949100236, 5.9680174838742035, 12.797890943179931, 3.0422759768669216, 3.424999389033856, 5.468809244478091, 5.521368239719264, 9.128627495566056, 5.265586229441019, 14.660689755551505, 4.663327639771049, 7.421563724134615, 15.628823866955871, 17.55551257587985, 9.144817191966528, 11.949585813311549, 16.4873688407405, 5.63212919427949, 16.4873688407405, 4.896250450654499, 16.37564683802259, 18.16276173986826, 19.32780809214909, 5.192095056687832, 5.192095056687832, 10.463003754819546, 11.38135635660832, 11.54236743708622, 9.731409477014745, 15.921999569964752, 6.107204411751209, 19.071880181727586, 21.800161682035945, 23.100846798829146, 11.890859460020621, 9.81315364937981, 12.112999634374622, 15.921999569964752, 12.434851588952041, 16.95179417753241, 6.555561278331494, 14.690425179911665, 9.855809838014917, 10.348200330273812, 6.448098314647492, 23.546962142498735, 24.331436770144606, 8.043705105429344, 9.77379997692815, 7.480876431289734, 8.731705218308957, 25.56099826138581, 14.108143688613634, 16.07217480043724, 28.18194486991602, 23.79887622588625, 14.348572731192084, 7.141261739777839, 15.21488429275406, 19.810751018050457, 24.181382946841453, 15.743407922942685, 21.603151075071523, 11.969187091006555, 21.603151075071523, 23.967095569733345, 20.008729171872957, 9.269173967789168, 27.26584302929334, 13.069268331480954, 9.989416979310581, 30.47928955392387, 12.537047151662929, 30.91228804806233, 12.30818108528808, 21.40928274823468, 15.659252848103286, 8.211962666994179, 15.893801570521171, 13.3439704569335, 22.001140655884168, 23.522977728626575, 32.21908805350226, 22.070605357330454, 10.192171550598282, 32.21908805350226, 17.586759163167105, 18.760409182593055, 26.097001004509043, 8.823909934506887, 8.823909934506887, 17.057635697519093, 31.272694574302815, 16.757256899801057, 33.79690103599671, 8.823909934506887, 13.439204021473511, 22.948280229604702, 18.524276737449927, 23.32712049435806, 10.876586177846901, 33.35432331717696, 18.99193586590592, 28.744248805639785, 25.24122638768108, 13.621535202315938, 20.020189632126627, 20.06204629376654, 17.216615068082874, 11.167919636562694, 24.22699554632518, 14.108164990896643, 19.524750979982674, 34.32048959999017, 34.4347639039516, 9.199071437388715, 17.86207821822787, 24.107421027779267, 32.46572417245757, 14.926510379221012, 24.37887193918111, 19.708676696324353, 20.939989255133064, 29.95490182759631, 14.904434625336394, 14.237009005838708, 19.708676696324353, 9.33674673868209, 33.255672860838835, 15.241034822182435, 11.59237357469097, 33.93525472741471, 35.664434972846685, 36.7216708059962, 29.906197716536276, 15.205433833401836, 29.906197716536276, 15.241034822182435, 18.50992440281771, 20.221983041001987, 11.642787089109289, 30.735067913793685, 11.630445052724715]\n"
          ],
          "name": "stdout"
        },
        {
          "output_type": "stream",
          "text": [
            "/usr/local/lib/python3.6/dist-packages/ipykernel_launcher.py:42: RuntimeWarning: invalid value encountered in true_divide\n"
          ],
          "name": "stderr"
        },
        {
          "output_type": "execute_result",
          "data": {
            "text/plain": [
              "{'cum_regrets': array([-0.  , -0.01, -0.01, -1.01, -1.01, -1.01, -1.01, -1.01, -1.01,\n",
              "        -1.01, -1.01, -1.01, -1.01, -1.01, -1.01]),\n",
              " 'cum_rewards': array([4.44e-03, 8.35e-03, 1.01e+00, 2.01e+00, 3.01e+00, 4.01e+00,\n",
              "        5.01e+00, 5.01e+00, 6.01e+00, 7.01e+00, 8.01e+00, 9.01e+00,\n",
              "        1.00e+01, 1.10e+01, 1.20e+01]),\n",
              " 'regret': -1.0099264775047987,\n",
              " 'regrets': array([-0., -0.,  0., -1.,  0.,  0.,  0., -0.,  0.,  0.,  0.,  0.,  0.,\n",
              "         0.,  0.]),\n",
              " 'reward': 12.009950694444445,\n",
              " 'rewards': array([0., 0., 1., 1., 1., 1., 1., 0., 1., 1., 1., 1., 1., 1., 1.])}"
            ]
          },
          "metadata": {
            "tags": []
          },
          "execution_count": 45
        }
      ]
    },
    {
      "cell_type": "code",
      "metadata": {
        "id": "upj2papOsvKG",
        "colab_type": "code",
        "outputId": "b71f73ed-e08a-4198-c40e-98db9512c88f",
        "colab": {
          "base_uri": "https://localhost:8080/",
          "height": 1000
        }
      },
      "source": [
        "nb_exp = 15\n",
        "nb_steps = 15\n",
        "regret = np.zeros(nb_exp)\n",
        "regrets = np.zeros((nb_exp, nb_steps))\n",
        "for i in range(nb_exp):\n",
        "    env = GoogleNewsEnv()\n",
        "    agent = Random(None, seed=i)\n",
        "    exp = run_exp(agent, env, nb_steps, env_seed=i)\n",
        "    regret[i] = exp['regret'] \n",
        "    regrets[i] = exp['cum_regrets']"
      ],
      "execution_count": 50,
      "outputs": [
        {
          "output_type": "stream",
          "text": [
            "[2.110815667065804, 0.38131226850854644, 1.3029866573624833, 0.30116960403400256, 0.0, 0.8148252968282232, 0.5195113772288437, 0.0, 2.210418595703974, 0.0, 3.181001833715011, 1.5974898310618963, 3.2759253634803276, 2.2961987516998636, 1.4939818687640176, 2.228254456985016, 2.1686090267915272, 2.5156719922623716, 1.1691642096580683, 1.537730059430234, 3.8315668898053463, 5.185484285559664]\n",
            "[1.0078717998946736, 0.3378558693875505, 1.4935485699253028, 0.5664530777251364, 0.0, 0.460238860833272, 0.41156628092188313, 0.0, 1.9585073915481335, 0.0, 1.4886769836341391, 3.8725681615555705, 2.1372335360151378, 4.3187919117566524, 2.674732928667474, 1.7652633609311, 1.5619400715490785, 3.2000721431643435, 1.5619400715490785, 4.6833411679158035, 12.521354039412968, 4.108034156192429]\n",
            "[1.702989815461001, 0.32918765077080114, 1.232482708947457, 0.15901567865338556, 0.0, 0.5590724213314266, 0.6954189856987509, 0.0, 2.7078146873025597, 0.0, 1.9945516042204572, 0.9642038190019899, 4.118995773277526, 1.2123786661531306, 1.8301628726184984, 2.9827459460481807, 2.1467132745902133, 2.029624779040333, 2.1467132745902133, 1.771833625905149, 6.03780320711416, 6.941299806476117]\n",
            "[2.6170548655881047, 0.14789622524792329, 0.9350172662069944, 0.2639965249538008, 0.0, 0.38855007561705973, 1.0686791098939123, 0.0, 2.1899286475857913, 0.0, 3.3173368948563193, 1.3139911469567696, 3.592160993606004, 2.0127811138058265, 0.5794575659557731, 4.583709027529029, 1.572408303369144, 1.78641523049316, 2.905001392880422, 2.068092312281415, 2.712642169386007, 10.666982425333297]\n",
            "[1.1684367262875273, 0.21120840853001135, 0.4746913762056178, 0.23515266033268467, 0.0, 1.9120849559276192, 0.4771332603818786, 0.0, 1.2243482110078374, 0.0, 1.5795008770675647, 1.8339694733502607, 2.777224144349891, 1.7928676661999745, 0.8275147665941626, 2.0464889906605204, 5.387244567289094, 1.3925439311990062, 1.3894652987552587, 1.8274785857976654, 3.873884100469705, 4.762488623494021]\n",
            "[2.9149441814300205, 4.566875745443279, 3.7516033183013353, 3.093593750191788, 2.3251234398068847, 3.856932908812749, 2.4590799219614485, 2.2448472105384814, 2.210418595703974, 5.271072215654967, 2.3034775589687886, 1.1567997030150705, 0.6920801890501734, 1.1799828251252653, 2.9072281638963617, 0.7739053360189921, 2.1686090267915272, 2.5156719922623716, 1.1691642096580683, 0.7902169001978896, 5.671949576685106, 4.901485007532782, 2.913751375255705, 6.457192799187041, 4.566875745443279, 5.671949576685106, 3.878259864270137, 4.46409309645995, 1.7796526560489299, 2.686721638246928, 4.398384871323963, 4.797400195159342, 3.360195505791866, 6.189579898957944, 3.8315668898053463, 5.859419382687399, 8.077148655513849, 7.959681441278935, 3.391598736789733, 3.391598736789733, 7.461503828130894, 5.996546246310198, 11.108966020655972, 7.776603406489723, 11.108966020655972, 5.233728879991913, 10.565350062340974, 11.567926833776395, 5.6295313394886435, 14.635238048160733, 14.854528318934973, 15.439201940348184, 13.14536484903045, 8.953011195484262, 14.838032403069276, 8.381142096936056, 12.604951318154388, 11.359593413230028, 14.622240617446254, 6.232863441029132]\n",
            "[1.700297107299929, 0.7573651414134455, 0.8746759601882098, 0.0, 0.20890122780749965, 0.41024185743730557, 0.261559518566473, 0.2016887922994224, 1.8546878197699963, 0.47358064473504935, 2.7452866066499717, 1.3786749164969696, 2.968425396317694, 2.022931201564124, 1.1282311609442492, 1.9942007160846975, 1.8196068182065557, 2.110815667065804, 0.9810063230458983, 1.354726856506487, 9.732938516785579, 8.730546904875274, 4.572665955967637, 10.406928823848734, 7.836656557545851, 9.732938516785579, 6.9079737267928785, 7.410806363531031, 3.6733314944618547, 4.99278973290127, 6.46194526967187, 6.804428277392512, 4.692313980643724, 8.40623668316575, 5.4345314193339735, 8.608443433369494, 11.45628391972329, 11.28967342201808, 4.982812112853244, 4.982812112853244, 9.09108287584101, 7.218691801481538, 13.451866351240858, 9.361539284107579, 13.451866351240858, 6.300405967922289, 12.647639917857237, 14.38670418950438, 6.9036754057242256, 17.4263122079805, 17.2076614174043, 18.116370848457052, 15.496911862309977, 10.37127413340641, 17.259288622539376, 9.88042719797872, 14.66181545931141, 13.329355219064139, 17.008284135605482, 7.421527679676621, 17.042627712138906, 16.720270254974594, 15.838986070218406, 17.18887300623702, 21.348165880952145]\n",
            "[0.8118574883766307, 0.671051732211259, 1.002597395840959, 0.0, 0.3378558693875505, 0.2317174563284021, 0.20721216707579893, 0.2694453046650641, 1.6433176101094902, 0.2216309963230428, 1.2847666233583899, 3.3421261800536515, 1.9366186961686864, 3.804818247935913, 2.0199154356691733, 1.5798417669093672, 1.310571324156882, 2.6850727902159885, 1.310571324156882, 4.125982983456043, 4.554917699039273, 10.007390153048, 13.926602128494004, 4.870338409169967, 14.030266219005014, 4.554917699039273, 4.506803872701196, 4.834854928509737, 12.004249297764312, 3.955378056888973, 5.1192695650784446, 14.361081068733775, 6.059616380908667, 15.810820804902917, 8.78926541822423, 5.616200602061446, 13.131766444635906, 5.390590779482639, 15.175751398630883, 15.175751398630883, 7.202119785558311, 21.98539092414003, 24.08339126060784, 19.75798981288162, 24.08339126060784, 8.13629338682044, 8.251396837433031, 6.869360348354847, 9.222936494371586, 8.155339496722645, 8.21631038433861, 21.669116207356158, 21.778817152298604, 8.21631038433861, 6.269106693508999, 7.82745259109169, 10.560168663245982, 8.696152026301608, 8.121111763729541, 9.914759089647243, 15.100358099818123, 27.454480857378005, 10.333450384163699, 15.229936492809822, 25.534688550917284]\n",
            "[2.5156719922623716, 4.244101878674209, 3.357538453640154, 2.831478397131544, 2.1458192463529904, 3.4948957403137717, 2.228254456985016, 2.0717335978924973, 1.8546878197699963, 4.864588269003195, 1.8554894637906976, 0.9318213899255768, 0.3484431121084342, 0.8911041161341148, 2.5612428185749017, 0.5195113772288437, 1.8196068182065557, 2.110815667065804, 0.9810063230458983, 0.596759137007208, 6.067297683074543, 5.274254397622493, 3.0752511349989726, 6.841710137480877, 4.885197629949885, 6.067297683074543, 4.173210590833941, 4.750963493644625, 1.9640073425351694, 2.9112235189154663, 4.599277980844939, 4.99278973290127, 3.48988079287025, 6.405377350041418, 3.987619762813886, 6.12704420730199, 8.406116487646367, 8.28386504367128, 3.5465076036611327, 3.5465076036611327, 7.620147695481135, 6.115525376294557, 11.337053617745813, 7.93090114214162, 11.337053617745813, 5.337572739963577, 10.768066534479885, 11.84234232871072, 5.753572663236034, 14.906956563072505, 15.083612103275232, 15.69983147515291, 13.374294223746453, 9.09108287584101, 15.073748154963807, 8.527101501006841, 12.805192529174935, 11.551354979553205, 14.854528318934973, 6.348583075535327, 18.98287206850588, 15.462825590338761, 15.960010444314575, 15.17034973379426, 15.960010444314575, 14.434911859717829, 18.882751076261314, 10.94770085541383, 15.630860910670584, 19.41315241912638, 8.694027900830886, 11.7906338702313, 10.89966078815794, 20.98235933946452, 16.894337062421265, 21.166532751393138, 17.042627712138906, 13.913238081234343, 16.720270254974594, 9.089625551724854, 13.70478665662413, 19.021273126757386, 10.745610978859835, 13.37723700448898, 19.155399680997007, 8.897114092326088, 15.035610360963402, 23.643070062030933, 10.363235783710211, 13.29911056536027, 24.767455953222274, 9.156437195217604, 9.106003162358153, 12.569775849450032, 20.153022259991292, 15.998965428255172, 22.906428373630696, 13.751999570326452, 10.768176682258702, 19.87322164893772, 24.635269773596207, 11.493066944274174, 25.094400658304757, 24.913928162027673, 15.152582879913384, 13.50097651937876, 11.620787779804536, 17.289923750021163, 21.890854718247127, 14.732068526046836, 13.752022174849557, 20.424320697624456, 15.331557155463123, 15.65492205828871, 25.3533172296476, 25.55283312964144, 27.479596190526536, 15.65492205828871, 25.26786335983293]\n",
            "[1.2840371221547653, 3.248441373741487, 2.1419666167618248, 2.022931201564124, 1.592719624075984, 2.3781197336304287, 1.5162271751289127, 1.537730059430234, 0.7573651414134455, 3.610707291520241, 0.47358064473504935, 0.23783081673625875, 0.6920801890501734, 0.0, 1.4939818687640176, 0.261559518566473, 0.7430397506782459, 0.8619554132744894, 0.40059571463260024, 0.0, 7.22092387301769, 6.361995869673485, 3.5465076036611327, 7.963732134738259, 5.814061223486728, 7.22092387301769, 5.033877120931303, 5.58805161412151, 2.501954511453146, 3.5663202426508747, 5.185484285559664, 5.562936609380641, 3.8683025968602407, 7.035074539099512, 4.442982210259598, 6.9079737267928785, 9.366044967544177, 9.229833136159188, 3.9985318399963616, 3.9985318399963616, 8.083070667138994, 6.462706602632342, 12.002613465767043, 8.381142096936056, 12.002613465767043, 5.640589232497617, 11.359593413230028, 12.643087031331365, 6.115525376294557, 15.69983147515291, 15.75207882674016, 16.460348731626766, 14.042310379765516, 9.493976184231112, 15.761566966722093, 8.953011195484262, 13.389496593380281, 12.110915431619768, 15.532344076006321, 6.686253090642201, 19.511157411124863, 15.960010444314575, 16.43690491448252, 15.658130448456856, 16.43690491448252, 14.876792790048196, 19.39617287572085, 11.27482457611663, 16.121188151998812, 20.022127031948667, 8.935979039296885, 12.08335703697877, 11.158536292003474, 21.527293765959715, 17.333101156066895, 21.70395096096146, 17.47533998386392, 14.236535397903472, 17.14479787173013, 9.33677237309279, 13.938341744190568, 19.351895567122035, 10.925176135927034, 13.60521003597505, 19.50188858166833, 9.054863769827742, 15.31310305557113, 24.07941943946265, 10.558405880079468, 13.530271979241313, 25.157918532015653, 9.303603756106112, 9.25522796350783, 12.760493050954032, 20.458797641613675, 16.237143079570064, 23.27459125337467, 13.964678338045523, 10.925480682918211, 20.169075607597126, 24.913928162027673, 11.620787779804536, 25.373271201281025, 25.181214350346156, 15.32705261761205, 13.653690916002635, 11.743296258698425, 17.475416691375308, 22.125708213794727, 14.904750147612477, 13.894491261983276, 20.621770601684524, 20.748906602314836, 15.479773320605387, 15.80889106140253, 25.602671711576207, 25.812994794583652, 27.759374853839372, 15.80889106140253, 25.5207052605808, 23.522139378391884, 23.464469802535614, 26.962948077486047, 23.07722342029217, 12.85496679866681, 10.832327110723048, 12.441645012059753, 16.095352633090542, 27.231245758632696, 16.095352633090542, 16.396955070165802, 25.546467719927975, 25.604350130498997, 18.75435045984777, 23.798772979765282, 27.37903955732129, 12.55950880813244, 29.688388311692353, 16.432353301694228, 27.145711094470034, 28.562542703224644, 24.69100591384432, 24.850672709797998, 28.00605858811247, 24.731758020307943, 15.321785697859045, 13.038040939888504, 16.93668982906673, 24.731758020307943, 16.93668982906673, 19.71774790089113, 22.84656098914123, 11.558826278969725, 17.01939965838737, 28.916424652674955, 17.54375520187688, 28.874309633976356, 22.778509991827658, 28.78830432366874, 24.45574754621755, 31.5556184146649, 24.987165615342942, 25.557735544630923, 29.053963622444638, 25.468904190537867, 23.327973032956713, 13.518339800779575, 20.163051462659126, 29.44854086259927, 17.470285822559113, 23.482651581113984, 11.850766143782105, 14.063571360052384, 25.64294164293771, 16.028149246156826, 13.578018438644529]\n",
            "[1.2840371221547653, 3.248441373741487, 2.1419666167618248, 2.022931201564124, 1.592719624075984, 2.3781197336304287, 1.5162271751289127, 1.537730059430234, 0.7573651414134455, 3.610707291520241, 0.47358064473504935, 0.23783081673625875, 0.6920801890501734, 0.0, 1.4939818687640176, 0.261559518566473, 0.7430397506782459, 0.8619554132744894, 0.40059571463260024, 0.0, 7.22092387301769, 6.361995869673485, 3.5465076036611327, 7.963732134738259, 5.814061223486728, 7.22092387301769, 5.033877120931303, 5.58805161412151, 2.501954511453146, 3.5663202426508747, 5.185484285559664, 5.562936609380641, 3.8683025968602407, 7.035074539099512, 4.442982210259598, 6.9079737267928785, 9.366044967544177, 9.229833136159188, 3.9985318399963616, 3.9985318399963616, 8.083070667138994, 6.462706602632342, 12.002613465767043, 8.381142096936056, 12.002613465767043, 5.640589232497617, 11.359593413230028, 12.643087031331365, 6.115525376294557, 15.69983147515291, 15.75207882674016, 16.460348731626766, 14.042310379765516, 9.493976184231112, 15.761566966722093, 8.953011195484262, 13.389496593380281, 12.110915431619768, 15.532344076006321, 6.686253090642201, 19.511157411124863, 15.960010444314575, 16.43690491448252, 15.658130448456856, 16.43690491448252, 14.876792790048196, 19.39617287572085, 11.27482457611663, 16.121188151998812, 20.022127031948667, 8.935979039296885, 12.08335703697877, 11.158536292003474, 21.527293765959715, 17.333101156066895, 21.70395096096146, 17.47533998386392, 14.236535397903472, 17.14479787173013, 9.33677237309279, 13.938341744190568, 19.351895567122035, 10.925176135927034, 13.60521003597505, 19.50188858166833, 9.054863769827742, 15.31310305557113, 24.07941943946265, 10.558405880079468, 13.530271979241313, 25.157918532015653, 9.303603756106112, 9.25522796350783, 12.760493050954032, 20.458797641613675, 16.237143079570064, 23.27459125337467, 13.964678338045523, 10.925480682918211, 20.169075607597126, 24.913928162027673, 11.620787779804536, 25.373271201281025, 25.181214350346156, 15.32705261761205, 13.653690916002635, 11.743296258698425, 17.475416691375308, 22.125708213794727, 14.904750147612477, 13.894491261983276, 20.621770601684524, 20.748906602314836, 15.479773320605387, 15.80889106140253, 25.602671711576207, 25.812994794583652, 27.759374853839372, 15.80889106140253, 25.5207052605808, 23.522139378391884, 23.464469802535614, 26.962948077486047, 23.07722342029217, 12.85496679866681, 10.832327110723048, 12.441645012059753, 16.095352633090542, 27.231245758632696, 16.095352633090542, 16.396955070165802, 25.546467719927975, 25.604350130498997, 18.75435045984777, 23.798772979765282, 27.37903955732129, 12.55950880813244, 29.688388311692353, 16.432353301694228, 27.145711094470034, 28.562542703224644, 24.69100591384432, 24.850672709797998, 28.00605858811247, 24.731758020307943, 15.321785697859045, 13.038040939888504, 16.93668982906673, 24.731758020307943, 16.93668982906673, 19.71774790089113, 22.84656098914123, 11.558826278969725, 17.01939965838737, 28.916424652674955, 17.54375520187688, 28.874309633976356, 22.778509991827658, 28.78830432366874, 24.45574754621755, 31.5556184146649, 24.987165615342942, 25.557735544630923, 29.053963622444638, 25.468904190537867, 23.327973032956713, 13.518339800779575, 20.163051462659126, 29.44854086259927, 17.470285822559113, 23.482651581113984, 11.850766143782105, 32.14017249168781, 31.98232652129054, 14.063571360052384, 29.307338214562986, 25.64294164293771, 16.028149246156826, 13.578018438644529, 25.289723064414435, 13.809094739984548, 25.675204956787102, 18.316332634152637, 29.712809021101084, 26.085923856070224, 28.088167969436597, 29.784250276292216, 23.895478333181135, 14.314533846830932, 23.932929398738846, 29.874990680447496, 32.60179071082628, 20.669860364032115, 20.732832957462083, 13.85306082651688, 13.933993545218508, 25.753426783858004, 32.60179071082628, 25.827421461850903, 25.734276826809456, 30.191494835621924, 18.663868259604186, 26.51240804617391, 32.985207292892696, 26.51240804617391, 28.540680135260416, 30.173706690134747, 14.047758700889458, 26.558653441409742, 30.65485591201958, 30.356425314356944, 18.267813699359635, 16.636366849153454, 33.07577195835775, 30.835191512341012, 26.194584116060255, 18.724940652351336, 33.09314234186632, 18.744193036357387, 30.77277912434195, 31.05288703970783, 30.98997724388517, 26.877505453630253, 30.564600967701555, 26.88809942720212, 24.57034251675363, 30.5892231557357, 33.34062699066317, 14.718907067082721, 21.22001607999856, 29.00356073904985, 30.659115904546958, 28.97209948359098, 33.45748592160007, 18.917107636750167, 26.438936390090518, 14.75302201508805, 33.45748592160007, 14.248892989868072, 14.248892989868072, 30.819373231128893, 14.817870252582859, 27.0952307651897, 24.766555688527937, 14.848231209363796, 12.497651079933467, 33.632370522468584, 30.81036645951462, 27.071815074475833, 33.64206380696187, 30.88709614269553, 30.88709614269553, 24.81250545096496, 30.895044590747418, 27.153105950746408, 26.61190924972799, 14.856377256853719, 21.44073635251471, 14.354847317686827, 14.354847317686827, 26.719326033390296, 31.001925534940334, 19.142770293538717, 14.414089679295174, 31.472273092185663, 24.886846491863423, 18.700280343450768, 31.472273092185663, 14.923455451855641, 31.008290154590618, 12.592694442616386, 33.89075488381004, 24.940073013150773, 33.89075488381004, 27.282767695912405, 19.172733405224374, 26.76174205270999, 31.0617631905482, 19.17971827262196, 21.556436769547265, 31.14178797321303, 14.99291642938964, 27.366918975305218, 21.602477591073935, 19.217787574990528, 12.63565959253102, 26.837647937897977, 31.137290425697937, 19.229131204428946, 18.764088232256142, 31.163362135116863, 29.470981490178552, 17.07629657420917, 21.626945040794197, 14.997098749623419, 14.488932703657914, 27.399662602731926, 18.780021748827988, 14.4832425582739, 31.163362135116863, 14.512565320114229, 18.816555764334353, 15.031537843251211, 26.924037945934582, 15.031537843251211, 12.66372298780094, 31.232945792634187, 14.512565320114229, 19.28738089107542, 26.921259907951168, 29.53115386843071, 21.683876749253276, 26.937363839886334]\n",
            "[0.4287794575947102, 0.35246662906740467, 1.40414407911458, 0.3804545023930202, 0.18005558836635788, 1.6559328777826203, 0.0, 0.47456353153011493, 1.042882348533486, 0.3882895631270598, 3.600579755882929, 2.217489543540893, 3.9685994588189004, 3.2134963199629376, 4.6912058496257565, 4.341405224183317, 1.4475266265044953, 3.9685994588189004, 2.5649857575185244, 1.6459164107990687]\n",
            "[0.8044001510885763, 0.3855466244345287, 1.2198126386041592, 0.3959366685207314, 0.3855466244345287, 1.6164647437423023, 0.0, 0.4122643838273952, 1.1407598223505764, 0.40499308672665724, 3.5147621685068433, 2.7432659090448364, 3.034964225691025, 2.1845053009588824, 3.189038675020165, 4.237930520824056, 1.0717518632324765, 3.034964225691025, 1.899121034770621, 2.036170313422385]\n",
            "[0.38002209468369924, 0.16243457715424128, 0.7971179569956626, 0.5662031060726082, 0.16243457715424128, 1.7849194491222384, 0.0, 0.49928615762789347, 1.1607890249754576, 0.42121193489431136, 3.8810418710914085, 1.965334407582884, 5.228529519138517, 2.848413960643346, 4.158242270674157, 4.67957290125315, 1.8912299640144334, 5.228529519138517, 3.351218439140904, 1.4587559898854972]\n",
            "[0.46765094184810985, 0.4256224381969909, 1.0454704582539247, 0.3286106032536533, 0.31068174439629304, 1.2243782123603697, 0.0, 0.3533413416465393, 1.2593366047443348, 0.35038992661522433, 2.662228321036809, 3.59918156609402, 3.8230297564916347, 2.1548481307988028, 3.145743809775099, 3.209986370121051, 2.357215622132171, 3.8230297564916347, 4.176934909148913, 2.671467841792056]\n",
            "[0.5613693065342839, 0.5095360482368815, 1.0901587100737575, 0.16457470538492677, 0.5095360482368815, 1.0431691102164982, 0.0, 0.23051595531815672, 1.0995157381044147, 0.2826338209151927, 3.4432470538042224, 2.903195442915113, 2.367848316204785, 2.7719252730188484, 2.5113979077137634, 2.7349054334043363, 2.259531160548062, 2.367848316204785, 4.003840163873547, 2.1548769134761585]\n",
            "[0.0, 0.35246662906740467, 0.47456353153011493, 1.1256931926168097, 0.18005558836635788, 0.8394652333970909, 0.7556614402502855, 1.40414407911458, 0.35246662906740467, 0.3882895631270598, 2.8388873251665507, 1.8390930003216577, 3.2183516330438593, 2.443279860550217, 3.962612296736453, 3.600579755882929, 0.9783570128996867, 3.2183516330438593, 2.127291813536379, 1.251420265731265, 5.131955120114212, 7.243826512063167, 4.2798468653146555, 3.9567193323815584, 6.728073887132587, 4.082200352919288, 7.8190279129696565, 10.428527749041024, 7.745449824155157, 7.697939799237282, 10.964796598701, 12.037156547845122, 6.828537848960804, 9.897461918161657, 10.44169315971459, 4.7167383164665235, 11.252018033912206, 6.509857604585083, 6.656226311240328, 11.50156165131029, 13.223542506493754, 7.2738291380407585, 7.231013279059531, 11.684739945546898, 8.565426166442428, 13.223542506493754]\n",
            "[0.0, 0.3855466244345287, 0.4122643838273952, 1.1715020052535525, 0.3855466244345287, 0.8194570997351341, 0.7864122287957572, 1.2198126386041592, 0.3855466244345287, 0.40499308672665724, 2.7712242048925764, 2.2751499081656665, 2.4612163997243863, 1.6609192218273912, 2.6937474656779665, 3.5147621685068433, 0.7243776606817, 2.4612163997243863, 1.575051486481052, 1.548137425435892, 3.799710735055535, 7.92368022784139, 5.2946170753086985, 8.47238231412528, 7.359522752532697, 8.741070358400169, 8.137214419751363, 9.059504747074026, 8.47238231412528, 8.0290914224468, 7.453768079645572, 10.456958020417028, 11.258461109827234, 10.300227948517051, 10.19282187346576, 8.97663228691551, 8.6049178190225, 7.1448451726169235, 4.928284440884998, 7.818656035331171, 13.761659628500883, 13.645871214201236, 13.761659628500883, 12.781386014672554, 9.400918962284042, 13.761659628500883]\n",
            "[1.8390930003216577, 3.3137528905521867, 3.6182010870482824, 4.234554725112622, 1.6928119634695675, 2.8388873251665507, 3.9080028497912154, 5.28201199398882, 2.6873011845812247, 3.650546054779774, 0.8394652333970909, 0.0, 0.422119246536677, 1.2470870806723182, 0.4214824233013365, 0.0, 1.2145708546736207, 0.422119246536677, 0.0, 0.6387438750195127, 3.4047295778353273, 4.805823473721317, 2.765736466433691, 2.745398721335571, 4.221399184616074, 2.887587345647146, 5.187433440496524, 7.235910445636033, 5.374237153840611, 4.974587523611436, 8.355996733161282, 9.058725680559643, 5.322111383071064, 7.542607718281328, 7.751997070806576, 3.3364344465890174, 8.675313737941847, 4.960999357133759, 5.131955120114212, 8.964231222185832, 6.671373926097616, 11.311550791725441, 6.158362847282778, 6.185481231035936, 7.5875643046924175, 9.838037661077093, 7.290263693175209, 15.206421901892554, 11.311550791725441, 15.989983647763406, 13.223542506493754, 13.698010109134056, 13.761508969255907, 7.446133293505707, 8.413689343448185, 15.298789777661819, 14.649559159396262, 11.490764084013492, 8.257049302121693, 13.223542506493754, 18.535865795155736, 15.336385100874887, 19.86308740953003, 15.616308538959792, 14.901647058778149, 14.752662176832235, 15.92410822638667, 20.261509207534523, 15.048577009640464, 20.649016032054437, 11.468199324164766, 13.734778869252223, 11.685920690113402, 19.052185664479474, 11.280205247812043, 8.116582911423542, 11.280205247812043, 11.13216436493784, 19.028378369747557, 17.294110155575837, 19.625154191396543, 21.2318882725611, 10.976439909987512, 10.70148859104512, 21.556356658820697, 18.026603119051444, 21.173366145367833, 10.976439909987512, 21.430462097352063, 10.976439909987512, 20.21079932795189, 11.350232497429667, 22.193739034290285, 11.051846224191406, 13.128893791283907, 22.27608540425582, 13.293248995319017, 22.390316382173705]\n",
            "[1.8390930003216577, 3.3137528905521867, 3.6182010870482824, 4.234554725112622, 1.6928119634695675, 2.8388873251665507, 3.9080028497912154, 5.28201199398882, 2.6873011845812247, 3.650546054779774, 0.8394652333970909, 0.0, 0.422119246536677, 1.2470870806723182, 0.4214824233013365, 0.0, 1.2145708546736207, 0.422119246536677, 0.0, 0.6387438750195127, 3.4047295778353273, 4.805823473721317, 2.765736466433691, 2.745398721335571, 4.221399184616074, 2.887587345647146, 5.187433440496524, 7.235910445636033, 5.374237153840611, 4.974587523611436, 8.355996733161282, 9.058725680559643, 5.322111383071064, 7.542607718281328, 7.751997070806576, 3.3364344465890174, 8.675313737941847, 4.960999357133759, 5.131955120114212, 8.964231222185832, 6.671373926097616, 11.311550791725441, 6.158362847282778, 6.185481231035936, 7.5875643046924175, 9.838037661077093, 7.290263693175209, 15.206421901892554, 11.311550791725441, 15.989983647763406, 13.223542506493754, 13.698010109134056, 13.761508969255907, 7.446133293505707, 8.413689343448185, 15.298789777661819, 14.649559159396262, 11.490764084013492, 8.257049302121693, 13.223542506493754, 18.535865795155736, 15.336385100874887, 19.86308740953003, 15.616308538959792, 14.901647058778149, 14.752662176832235, 15.92410822638667, 20.261509207534523, 15.048577009640464, 20.649016032054437, 11.468199324164766, 13.734778869252223, 11.685920690113402, 19.052185664479474, 11.280205247812043, 8.116582911423542, 11.280205247812043, 11.13216436493784, 19.028378369747557, 17.294110155575837, 19.625154191396543, 21.2318882725611, 10.976439909987512, 10.70148859104512, 21.556356658820697, 18.026603119051444, 21.173366145367833, 10.976439909987512, 21.430462097352063, 10.976439909987512, 20.21079932795189, 11.350232497429667, 22.193739034290285, 11.051846224191406, 13.128893791283907, 22.27608540425582, 13.293248995319017, 22.50297178554894, 22.53697181616707, 22.390316382173705, 17.0858449088714, 11.899708772563423, 12.393425970011208, 10.336857876494221, 11.899708772563423, 10.14144421449045, 14.246431454363359, 14.229413015389014, 14.365882753468593, 12.301656833711265, 20.924641373971596, 27.81698768765436, 24.438616564863185, 22.373562015408123, 24.660942862686, 24.660942862686, 24.865917481124768, 10.411301941016445, 24.577822654714527, 14.569969058965198, 15.249572884098791, 23.52597227589294, 23.650597218317355, 11.024307632787135, 25.936384456069707, 11.024307632787135, 15.398568324266998, 23.773900234651272, 10.937940354358664, 25.7111527735596, 23.691557767895194, 13.316971712364834, 15.619738871165872, 13.013527267185829, 26.246437135026174, 15.545246717199971, 18.728496028986033, 15.545246717199971]\n",
            "[1.6459164107990687, 3.002702182135765, 3.1876038026345546, 3.9080028497912154, 1.533913464443208, 2.450032964132622, 3.576883889303931, 4.874684415512116, 2.3674890556687145, 3.3078817180142144, 0.42264737968176364, 0.21587852242601305, 0.0, 0.8371513887435902, 0.8371513887435902, 0.42264737968176364, 0.9783570128996867, 0.0, 0.2497082058356302, 0.4287794575947102, 3.607476746085339, 5.092003940666335, 2.9434675086610924, 2.887587345647146, 4.515640547552741, 3.0278147788632492, 5.4963382790460695, 7.610669909138013, 5.652577557254585, 5.294263181778156, 8.662225869033907, 9.408343266328913, 5.498940461069207, 7.8190279129696565, 8.067722059889205, 3.4984588574676136, 8.977775394881194, 5.142809211148023, 5.310878868102647, 9.262071050759019, 6.7952349668032825, 11.53598639460293, 6.2892997899076155, 6.308209072225534, 7.733146255020485, 10.054809385216306, 7.439946276129896, 15.471245031387111, 11.53598639460293, 16.243999201573235, 13.421606230862844, 13.897364617985179, 13.993817329152089, 7.551473107971116, 8.54734851441668, 15.509257779600501, 14.868981923458954, 11.684739945546898, 8.39223216765809, 13.421606230862844, 18.702322008729396, 15.477318760675582, 20.06368169531511, 15.753381247458343, 15.048577009640464, 14.901647058778149, 16.084923363055893, 20.456608107973047, 15.19348037284371, 20.838770096101424, 11.56025612870978, 13.847489158589568, 11.773809532895104, 19.212048471517843, 11.374855032705026, 8.184687419254313, 11.374855032705026, 11.227691104065004, 19.18804141487772, 17.436029015575148, 19.74275629387903, 21.361686695993214, 11.04092167816765, 10.761927669934494, 21.68051477130042, 18.13043091579402, 21.302806801287794, 11.04092167816765, 21.556356658820697, 11.04092167816765, 20.312488634702333, 11.409558588089226, 22.309742629311007, 11.10745286114892, 13.197516697774835, 22.390316382173705, 13.360133102813249, 22.614073346097253, 22.648241241497708, 22.50297178554894, 17.152334335540854, 11.943620940374034, 12.43836341488994, 10.374338390935366, 11.943620940374034, 10.181620046758255, 14.299003471097814, 14.282856588700785, 14.417972148760132, 12.347860039573494, 20.988496867392392, 27.907874755472747, 24.524184959325595, 22.445420588899864, 24.742916603332695, 24.742916603332695, 24.944427207553538, 10.447755657166525, 24.660942862686, 14.619243515670858, 15.288945511438909, 23.581935789198702, 23.712676855075504, 11.052306232995308, 26.00012935648357, 11.052306232995308, 15.43641400804027, 23.834279167300004, 10.967130208355346, 25.778641091511236, 23.74523737984087, 13.34917079863763, 15.654005842260995, 13.042076666531644, 15.720979888593261, 26.30590551503595, 15.579904326642906, 22.190592846489075, 18.772328560525267, 15.579904326642906, 16.248247344955168, 13.515541586898662, 14.024546235857908, 22.746245922021565, 16.120987230730172, 22.667152695325154, 27.275323232659655, 19.431447070654595, 13.402793547229978, 30.779996859195005, 27.58727049237293, 16.30826457389079, 27.51123082355289, 27.51123082355289]\n",
            "[0.0, 1.0590455379253652, 0.8813835286220834, 0.7109218406295702, 0.0, 0.5513947968746221, 0.17997523054035464, 0.8028469969629687, 0.0, 0.14260031243775395, 0.9578344478301214, 2.401732001370677, 1.6185912761339722, 4.6226054688585005, 2.7289505212110825, 4.660302826745309, 4.170789025074766, 4.170789025074766, 2.609998420633458, 1.8260806439808273, 7.55677632626068, 5.179504594382274, 9.619201302584118, 8.13908933963391, 8.79749825999997]\n",
            "[0.0, 0.9012737849598439, 0.4988152172590974, 1.28990003349383, 0.0, 0.4101725992970191, 0.2046840800814463, 0.7430746952712846, 0.0, 0.22964835495593375, 1.5425289152878179, 4.379918428636809, 0.7820540189688794, 5.663250758252757, 4.951421052975265, 2.2517164209443883, 4.644215337178525, 2.015198257537769, 5.1834123916682335, 3.330131863248715, 3.707820341500545, 11.376038887530942, 4.647705167375389, 4.606282606151905, 4.978906302865602]\n",
            "[0.0, 0.646925078659974, 0.6134639999950504, 0.8908634284694247, 0.0, 0.35046739096695173, 0.203888091567874, 0.9138646117515006, 0.0, 0.2350915010858334, 3.1231842516902932, 3.545079424606719, 0.8455777587252721, 4.173814382571838, 3.419675804722221, 2.4346161241104936, 3.9315644019454865, 2.17888634885165, 3.8201736272438582, 2.6953885424995425, 4.322167290073609, 10.283826465669632, 5.0252233519965275, 5.665000695457505, 6.123269039264248]\n",
            "[0.0, 1.2848410014339022, 0.6529853111713432, 0.8624950457230501, 0.0, 0.4136291577134691, 0.27177044645686066, 0.564633261345165, 0.0, 0.2854467151308562, 2.84377836917477, 3.2279300138142597, 1.0226316510611695, 3.5559333836318157, 3.3107806935338, 1.7693647138930981, 2.6351191494911905, 2.6351191494911905, 3.2546447175774644, 2.4542540612303934, 6.3520707435536155, 6.275547563062328, 3.6520964395168516, 6.029958142513726, 6.517749597404374]\n",
            "[0.0, 1.5540282617494874, 0.9621308543801017, 0.5866044837875892, 0.0, 0.5657861976493861, 0.2530830663147667, 0.7530906866026001, 0.0, 0.1395941700761365, 2.481736615614103, 1.064303816786285, 1.2412294200673353, 2.9260379781373946, 2.251744875863243, 3.5737897888561556, 1.4457242360757125, 1.4457242360757125, 2.6781193632062585, 0.8092096029195543, 8.933580400453017, 4.858505650516353, 7.376559994092781, 4.668371231893579, 5.046017567300099]\n",
            "[0.2832337554137742, 1.7409542722858706, 0.0, 1.4023676057056842, 1.0865367428017265, 0.0, 0.5325127987304771, 1.3197920762620354, 0.7109218406295702, 0.4219274577289239, 1.2148278277096145, 2.961613088826148, 2.6607858645910896, 5.389805607874561, 3.365111335388462, 5.619168136812189, 5.143064821697174, 5.143064821697174, 3.0898909460493185, 2.401732001370677, 8.136054629630092, 8.114934781521843, 5.576548850317333, 7.865493252456694, 12.021219395208131, 6.100518800233179, 8.975352855292893, 10.44221499597845, 8.79749825999997, 9.437869723721336, 6.374901840348516, 6.882481028944322, 7.2220292226787235, 4.459301610971962, 9.767303129647466, 4.911227836157569, 14.231182725165434, 14.927848775958463, 7.2220292226787235, 9.167271456001412, 13.78523138845967, 19.85626188684537, 13.311413469676499, 12.790767031350184, 16.762762414367756, 16.78108255734343, 11.434148146675565, 10.249924552030466, 6.6225353421150315, 5.103841887034137, 5.782671952773488, 8.962180291410922, 10.88023722771323, 21.184930067408605, 5.907486386376405, 7.184457012814689, 7.356112860897439, 17.42777065975896, 18.04806706963385, 5.5888275828229945, 16.270197166313427]\n",
            "[0.4561291969620107, 1.4815948797620788, 0.0, 2.544462581102455, 0.5249814693769009, 0.0, 0.6056216292236083, 1.2215329927118141, 1.28990003349383, 0.6794862151545564, 1.956399726052365, 5.400945542149865, 1.2856107095728657, 6.603163713897495, 6.105674317705717, 2.7150109415838135, 5.726854171100437, 2.4849723169351994, 6.136470770265188, 4.379918428636809, 3.992049989685177, 6.906008970654767, 12.248089643212666, 14.271189081495468, 5.808287168941229, 4.538065407100584, 4.4038614419949935, 5.045360323482992, 4.978906302865602, 5.341321778568987, 15.377907310241854, 15.116382349169895, 5.372336690980301, 15.610311464612888, 8.312215051443692, 14.995118763373023, 15.846564446452334, 7.212681979654809, 5.372336690980301, 5.324823008053937, 9.725926573805905, 9.593941126012028, 20.757629671194824, 7.429535702753028, 9.486813293025254, 20.558855640484765, 8.335678336804209, 9.486813293025254, 7.531745064239497, 20.561008779182863, 9.312610039223593, 21.619090186878687, 21.60796574609844, 23.589631732655143, 23.798519260903607, 11.796320904167887, 25.75094105429318, 7.9974081771666645, 22.111064897420345, 22.514790924007, 13.84633772297679]\n",
            "[1.0872234615502991, 1.7409542722858706, 4.171982816513694, 2.074870852501849, 4.170789025074766, 2.609998420633458, 1.2088786666787092, 1.3197920762620354, 2.7289505212110825, 0.9578344478301214, 0.14260031243775395, 0.0, 2.6607858645910896, 1.3315331918770872, 0.0, 0.547041007779155, 0.0, 0.0, 0.5513947968746221, 0.6256777914594199, 5.071835737849249, 5.457530166783586, 3.4762966868362217, 5.170922741231826, 7.902975026849542, 4.0105954432781745, 6.036186400022065, 6.088704614483986, 5.314700715939164, 6.050485239477975, 4.910732809209946, 4.976808093514317, 5.299206911108906, 3.1196760497252467, 7.356095494274859, 3.6988163956185027, 10.44221499597845, 11.242681798901836, 5.299206911108906, 6.726539973433609, 11.792273836661993, 16.90541085232227, 11.48814433863972, 10.88992344145935, 14.466760766560553, 14.420069701696464, 9.73491250606081, 8.845988668456165, 5.665102604847796, 4.323868567203047, 5.103841887034137, 7.883506504206288, 9.502474836803586, 18.43204584398121, 5.2472532252371265, 6.2508698684843536, 6.448101824543486, 15.163112020523249, 15.875830378927828, 4.881115398636514, 19.12844473686134, 15.428957654757058, 15.045146129003234, 7.92071212737677, 14.827897505230055, 15.680319468099729, 9.54102634848901, 7.831009283031362, 11.806481085636737, 6.028881463307343, 18.142982244535354, 6.373474543625552, 20.45644572354321, 20.286228328961794, 16.53538844815173, 16.743964424999746, 25.070600622025395, 20.286228328961794, 13.219553555547535, 6.639492920790537, 19.763949942261124, 19.160128012371015, 16.11098519043789, 18.022493287034997, 9.542824144588499, 23.408274762064003, 7.335177006867551, 27.310509873059754, 9.096411506767211, 11.362391063645823, 11.810738964961544, 28.912076839338006, 28.912076839338006, 16.648902582618952, 14.747516541824194, 14.672277621226627, 23.535430134673565, 23.535430134673565, 23.5733420803409]\n",
            "[1.0872234615502991, 1.7409542722858706, 4.171982816513694, 2.074870852501849, 4.170789025074766, 2.609998420633458, 1.2088786666787092, 1.3197920762620354, 2.7289505212110825, 0.9578344478301214, 0.14260031243775395, 0.0, 2.6607858645910896, 1.3315331918770872, 0.0, 0.547041007779155, 0.0, 0.0, 0.5513947968746221, 0.6256777914594199, 5.071835737849249, 5.457530166783586, 3.4762966868362217, 5.170922741231826, 7.902975026849542, 4.0105954432781745, 6.036186400022065, 6.088704614483986, 5.314700715939164, 6.050485239477975, 4.910732809209946, 4.976808093514317, 5.299206911108906, 3.1196760497252467, 7.356095494274859, 3.6988163956185027, 10.44221499597845, 11.242681798901836, 5.299206911108906, 6.726539973433609, 11.792273836661993, 16.90541085232227, 11.48814433863972, 10.88992344145935, 14.466760766560553, 14.420069701696464, 9.73491250606081, 8.845988668456165, 5.665102604847796, 4.323868567203047, 5.103841887034137, 7.883506504206288, 9.502474836803586, 18.43204584398121, 5.2472532252371265, 6.2508698684843536, 6.448101824543486, 15.163112020523249, 15.875830378927828, 4.881115398636514, 19.12844473686134, 15.428957654757058, 15.045146129003234, 7.92071212737677, 14.827897505230055, 15.680319468099729, 9.54102634848901, 7.831009283031362, 11.806481085636737, 6.028881463307343, 18.142982244535354, 6.373474543625552, 20.45644572354321, 20.286228328961794, 16.53538844815173, 16.743964424999746, 25.070600622025395, 20.286228328961794, 13.219553555547535, 6.639492920790537, 19.763949942261124, 19.160128012371015, 16.11098519043789, 18.022493287034997, 9.542824144588499, 23.408274762064003, 7.335177006867551, 27.310509873059754, 9.096411506767211, 11.362391063645823, 16.98340185759982, 11.810738964961544, 28.912076839338006, 28.912076839338006, 16.648902582618952, 14.747516541824194, 14.672277621226627, 23.535430134673565, 23.535430134673565, 23.5733420803409, 10.332244593262105, 31.405218806770637, 15.57748764604969, 15.937495312040578, 20.15585574821264, 21.662119675325744, 18.150141320795395, 20.31862792684125, 10.611311428525264, 12.782032764661567, 18.278586500359452, 8.385961826381042, 26.29112728362075, 16.32565197287511, 20.84037718413683, 21.507228745840262, 21.116519738628433, 16.378086094061786, 26.112658380928178, 8.358651417117892, 19.287277314362715, 22.133096413439404, 27.238720355211242, 21.915028591755615, 11.047373649067957, 27.760719975217516, 27.238720355211242, 11.074973744580381, 19.571232410467093, 24.36092570433133, 16.935158396278464, 24.870988977706663, 17.514432559777763, 17.403267967880808, 21.943700624429802, 11.526004039218627, 23.43384046788327, 28.272480914022218, 34.1423705187349, 22.138501169605675, 9.218304549338374, 29.18830629527317, 22.741060072578552, 35.422392284993414, 22.977457268155895, 29.091442747870634, 20.363704259064676, 22.741060072578552, 17.570069535514595, 14.446020941619029, 20.593000709907386, 14.517674230330742, 23.03628317369991, 17.738173712920613, 24.415177449061808, 18.148116488188926, 35.651454636721574, 20.593000709907386]\n",
            "[1.1969295533527606, 0.33651903830712615, 1.1926526082080435, 1.1926526082080435, 0.9492202890847207, 0.5586276930153932, 0.6825208220722705, 1.4140337997960013, 0.6429753070931055, 0.0, 1.5494178981879958, 4.765535957393124, 1.4440389433231409, 4.32213313886105, 1.9605895868086913, 1.7178487252200714, 4.660011345650381, 3.8648183357474677, 1.6682144879862528, 1.8866427579013412, 4.923803432492385, 8.172961933444418]\n",
            "[nan, nan, nan, nan, nan, nan, nan, nan, nan, nan, nan, nan, nan, nan, nan, nan, nan, nan, nan, nan, nan, nan]\n"
          ],
          "name": "stdout"
        },
        {
          "output_type": "stream",
          "text": [
            "/usr/local/lib/python3.6/dist-packages/ipykernel_launcher.py:42: RuntimeWarning: invalid value encountered in true_divide\n",
            "/usr/local/lib/python3.6/dist-packages/ipykernel_launcher.py:89: RuntimeWarning: invalid value encountered in less_equal\n"
          ],
          "name": "stderr"
        },
        {
          "output_type": "error",
          "ename": "ValueError",
          "evalue": "ignored",
          "traceback": [
            "\u001b[0;31m---------------------------------------------------------------------------\u001b[0m",
            "\u001b[0;31mValueError\u001b[0m                                Traceback (most recent call last)",
            "\u001b[0;32m<ipython-input-50-b8ca6c978e38>\u001b[0m in \u001b[0;36m<module>\u001b[0;34m()\u001b[0m\n\u001b[1;32m      6\u001b[0m     \u001b[0menv\u001b[0m \u001b[0;34m=\u001b[0m \u001b[0mGoogleNewsEnv\u001b[0m\u001b[0;34m(\u001b[0m\u001b[0;34m)\u001b[0m\u001b[0;34m\u001b[0m\u001b[0;34m\u001b[0m\u001b[0m\n\u001b[1;32m      7\u001b[0m     \u001b[0magent\u001b[0m \u001b[0;34m=\u001b[0m \u001b[0mRandom\u001b[0m\u001b[0;34m(\u001b[0m\u001b[0;32mNone\u001b[0m\u001b[0;34m,\u001b[0m \u001b[0mseed\u001b[0m\u001b[0;34m=\u001b[0m\u001b[0mi\u001b[0m\u001b[0;34m)\u001b[0m\u001b[0;34m\u001b[0m\u001b[0;34m\u001b[0m\u001b[0m\n\u001b[0;32m----> 8\u001b[0;31m     \u001b[0mexp\u001b[0m \u001b[0;34m=\u001b[0m \u001b[0mrun_exp\u001b[0m\u001b[0;34m(\u001b[0m\u001b[0magent\u001b[0m\u001b[0;34m,\u001b[0m \u001b[0menv\u001b[0m\u001b[0;34m,\u001b[0m \u001b[0mnb_steps\u001b[0m\u001b[0;34m,\u001b[0m \u001b[0menv_seed\u001b[0m\u001b[0;34m=\u001b[0m\u001b[0mi\u001b[0m\u001b[0;34m)\u001b[0m\u001b[0;34m\u001b[0m\u001b[0;34m\u001b[0m\u001b[0m\n\u001b[0m\u001b[1;32m      9\u001b[0m     \u001b[0mregret\u001b[0m\u001b[0;34m[\u001b[0m\u001b[0mi\u001b[0m\u001b[0;34m]\u001b[0m \u001b[0;34m=\u001b[0m \u001b[0mexp\u001b[0m\u001b[0;34m[\u001b[0m\u001b[0;34m'regret'\u001b[0m\u001b[0;34m]\u001b[0m\u001b[0;34m\u001b[0m\u001b[0;34m\u001b[0m\u001b[0m\n\u001b[1;32m     10\u001b[0m     \u001b[0mregrets\u001b[0m\u001b[0;34m[\u001b[0m\u001b[0mi\u001b[0m\u001b[0;34m]\u001b[0m \u001b[0;34m=\u001b[0m \u001b[0mexp\u001b[0m\u001b[0;34m[\u001b[0m\u001b[0;34m'cum_regrets'\u001b[0m\u001b[0;34m]\u001b[0m\u001b[0;34m\u001b[0m\u001b[0;34m\u001b[0m\u001b[0m\n",
            "\u001b[0;32m<ipython-input-42-7f3de89c9697>\u001b[0m in \u001b[0;36mrun_exp\u001b[0;34m(agent, env, nb_steps, env_seed)\u001b[0m\n\u001b[1;32m      9\u001b[0m \u001b[0;34m\u001b[0m\u001b[0m\n\u001b[1;32m     10\u001b[0m         \u001b[0;31m# Play action in the environment and get reward.\u001b[0m\u001b[0;34m\u001b[0m\u001b[0;34m\u001b[0m\u001b[0;34m\u001b[0m\u001b[0m\n\u001b[0;32m---> 11\u001b[0;31m         \u001b[0mreward\u001b[0m\u001b[0;34m,\u001b[0m \u001b[0mnext_context\u001b[0m\u001b[0;34m,\u001b[0m \u001b[0mdone\u001b[0m\u001b[0;34m,\u001b[0m \u001b[0moptimal_return\u001b[0m \u001b[0;34m=\u001b[0m \u001b[0menv\u001b[0m\u001b[0;34m.\u001b[0m\u001b[0mstep\u001b[0m\u001b[0;34m(\u001b[0m\u001b[0maction\u001b[0m\u001b[0;34m)\u001b[0m\u001b[0;34m\u001b[0m\u001b[0;34m\u001b[0m\u001b[0m\n\u001b[0m\u001b[1;32m     12\u001b[0m \u001b[0;34m\u001b[0m\u001b[0m\n\u001b[1;32m     13\u001b[0m         \u001b[0;31m# Update history\u001b[0m\u001b[0;34m\u001b[0m\u001b[0;34m\u001b[0m\u001b[0;34m\u001b[0m\u001b[0m\n",
            "\u001b[0;32m<ipython-input-37-6422395d4640>\u001b[0m in \u001b[0;36mstep\u001b[0;34m(self, action)\u001b[0m\n\u001b[1;32m     38\u001b[0m \u001b[0;34m\u001b[0m\u001b[0m\n\u001b[1;32m     39\u001b[0m         \u001b[0;31m# compute potential rewards\u001b[0m\u001b[0;34m\u001b[0m\u001b[0;34m\u001b[0m\u001b[0;34m\u001b[0m\u001b[0m\n\u001b[0;32m---> 40\u001b[0;31m         \u001b[0mpotential_rewards\u001b[0m \u001b[0;34m=\u001b[0m \u001b[0mself\u001b[0m\u001b[0;34m.\u001b[0m\u001b[0mcompute_best_reward\u001b[0m\u001b[0;34m(\u001b[0m\u001b[0;34m)\u001b[0m\u001b[0;34m\u001b[0m\u001b[0;34m\u001b[0m\u001b[0m\n\u001b[0m\u001b[1;32m     41\u001b[0m         \u001b[0moptimal_return\u001b[0m \u001b[0;34m=\u001b[0m \u001b[0mnp\u001b[0m\u001b[0;34m.\u001b[0m\u001b[0mmax\u001b[0m\u001b[0;34m(\u001b[0m\u001b[0mpotential_rewards\u001b[0m\u001b[0;34m)\u001b[0m\u001b[0;34m\u001b[0m\u001b[0;34m\u001b[0m\u001b[0m\n\u001b[1;32m     42\u001b[0m \u001b[0;34m\u001b[0m\u001b[0m\n",
            "\u001b[0;32m<ipython-input-37-6422395d4640>\u001b[0m in \u001b[0;36mcompute_best_reward\u001b[0;34m(self)\u001b[0m\n\u001b[1;32m     87\u001b[0m                 \u001b[0mlambda_list_temp\u001b[0m\u001b[0;34m.\u001b[0m\u001b[0mappend\u001b[0m\u001b[0;34m(\u001b[0m\u001b[0mlambda_temp\u001b[0m\u001b[0;34m)\u001b[0m\u001b[0;34m\u001b[0m\u001b[0;34m\u001b[0m\u001b[0m\n\u001b[1;32m     88\u001b[0m             \u001b[0mprint\u001b[0m\u001b[0;34m(\u001b[0m\u001b[0mlambda_list_temp\u001b[0m\u001b[0;34m)\u001b[0m\u001b[0;34m\u001b[0m\u001b[0;34m\u001b[0m\u001b[0m\n\u001b[0;32m---> 89\u001b[0;31m             \u001b[0mnext_logs_temp\u001b[0m \u001b[0;34m=\u001b[0m \u001b[0mnp\u001b[0m\u001b[0;34m.\u001b[0m\u001b[0mrandom\u001b[0m\u001b[0;34m.\u001b[0m\u001b[0mpoisson\u001b[0m\u001b[0;34m(\u001b[0m\u001b[0mnp\u001b[0m\u001b[0;34m.\u001b[0m\u001b[0mround\u001b[0m\u001b[0;34m(\u001b[0m\u001b[0mnp\u001b[0m\u001b[0;34m.\u001b[0m\u001b[0masarray\u001b[0m\u001b[0;34m(\u001b[0m\u001b[0mlambda_list_temp\u001b[0m\u001b[0;34m)\u001b[0m\u001b[0;34m.\u001b[0m\u001b[0mastype\u001b[0m\u001b[0;34m(\u001b[0m\u001b[0mnp\u001b[0m\u001b[0;34m.\u001b[0m\u001b[0mfloat64\u001b[0m\u001b[0;34m)\u001b[0m\u001b[0;34m,\u001b[0m \u001b[0mdecimals\u001b[0m\u001b[0;34m=\u001b[0m\u001b[0;36m5\u001b[0m\u001b[0;34m)\u001b[0m\u001b[0;34m,\u001b[0m  \u001b[0msize\u001b[0m\u001b[0;34m=\u001b[0m\u001b[0;34m(\u001b[0m\u001b[0;36m1\u001b[0m\u001b[0;34m,\u001b[0m \u001b[0mlen\u001b[0m\u001b[0;34m(\u001b[0m\u001b[0mlambda_list_temp\u001b[0m\u001b[0;34m)\u001b[0m\u001b[0;34m)\u001b[0m\u001b[0;34m)\u001b[0m\u001b[0;34m\u001b[0m\u001b[0;34m\u001b[0m\u001b[0m\n\u001b[0m\u001b[1;32m     90\u001b[0m             \u001b[0mbest_logs\u001b[0m\u001b[0;34m.\u001b[0m\u001b[0mappend\u001b[0m\u001b[0;34m(\u001b[0m\u001b[0mmin\u001b[0m\u001b[0;34m(\u001b[0m\u001b[0mnext_logs_temp\u001b[0m\u001b[0;34m)\u001b[0m\u001b[0;34m)\u001b[0m\u001b[0;34m\u001b[0m\u001b[0;34m\u001b[0m\u001b[0m\n\u001b[1;32m     91\u001b[0m             \u001b[0mk\u001b[0m\u001b[0;34m+=\u001b[0m\u001b[0;36m1\u001b[0m\u001b[0;34m\u001b[0m\u001b[0;34m\u001b[0m\u001b[0m\n",
            "\u001b[0;32mmtrand.pyx\u001b[0m in \u001b[0;36mnumpy.random.mtrand.RandomState.poisson\u001b[0;34m()\u001b[0m\n",
            "\u001b[0;32mcommon.pyx\u001b[0m in \u001b[0;36mnumpy.random.common.disc\u001b[0;34m()\u001b[0m\n",
            "\u001b[0;32mcommon.pyx\u001b[0m in \u001b[0;36mnumpy.random.common.discrete_broadcast_d\u001b[0;34m()\u001b[0m\n",
            "\u001b[0;32mcommon.pyx\u001b[0m in \u001b[0;36mnumpy.random.common.check_array_constraint\u001b[0;34m()\u001b[0m\n",
            "\u001b[0;31mValueError\u001b[0m: lam value too large"
          ]
        }
      ]
    },
    {
      "cell_type": "code",
      "metadata": {
        "id": "A1uNWhh9svKL",
        "colab_type": "code",
        "outputId": "5b715495-2d2a-4c1b-fb8b-75444bb66c62",
        "colab": {
          "base_uri": "https://localhost:8080/",
          "height": 295
        }
      },
      "source": [
        "plt.plot(regrets.mean(axis=0), color='blue')\n",
        "plt.plot(np.quantile(regrets, 0.05,axis=0), color='grey', alpha=0.5)\n",
        "plt.plot(np.quantile(regrets, 0.95,axis=0), color='grey', alpha=0.5)\n",
        "plt.title('Mean regret: {:.2f}'.format(regret.mean()))\n",
        "plt.xlabel('steps')\n",
        "plt.ylabel('regret')\n",
        "plt.show()"
      ],
      "execution_count": 49,
      "outputs": [
        {
          "output_type": "display_data",
          "data": {
            "image/png": "[encoded data removed]",
            "text/plain": [
              "<Figure size 432x288 with 1 Axes>"
            ]
          },
          "metadata": {
            "tags": []
          }
        }
      ]
    },
    {
      "cell_type": "code",
      "metadata": {
        "id": "8OREf8-MdAHI",
        "colab_type": "code",
        "colab": {}
      },
      "source": [
        ""
      ],
      "execution_count": 0,
      "outputs": []
    }
  ]
}