{
  "nbformat": 4,
  "nbformat_minor": 0,
  "metadata": {
    "kernelspec": {
      "display_name": "Python 3",
      "language": "python",
      "name": "python3"
    },
    "language_info": {
      "codemirror_mode": {
        "name": "ipython",
        "version": 3
      },
      "file_extension": ".py",
      "mimetype": "text/x-python",
      "name": "python",
      "nbconvert_exporter": "python",
      "pygments_lexer": "ipython3",
      "version": "3.7.4"
    },
    "colab": {
      "name": "GoogleNewsEnvNoHours.ipynb",
      "provenance": [],
      "collapsed_sections": []
    }
  },
  "cells": [
    {
      "cell_type": "markdown",
      "metadata": {
        "collapsed": true,
        "id": "fZ5SKSsasvIR",
        "colab_type": "text"
      },
      "source": [
        "# Google News Recommendations"
      ]
    },
    {
      "cell_type": "code",
      "metadata": {
        "id": "GHnUW42csvIV",
        "colab_type": "code",
        "colab": {}
      },
      "source": [
        "%matplotlib inline\n",
        "import numpy as np\n",
        "import matplotlib.pyplot as plt\n",
        "from copy import copy, deepcopy\n",
        "import random\n",
        "from scipy.stats import norm"
      ],
      "execution_count": 0,
      "outputs": []
    },
    {
      "cell_type": "code",
      "metadata": {
        "id": "BQVVWlbTsvIe",
        "colab_type": "code",
        "colab": {}
      },
      "source": [
        "def random_argmax(rng, list_):\n",
        "    \"\"\" similar to np.argmax but return a random element among max\n",
        "        when multiple max exists.\"\"\"\n",
        "    return rng.choice(np.argwhere(list_ == list_.max()).flatten())"
      ],
      "execution_count": 0,
      "outputs": []
    },
    {
      "cell_type": "code",
      "metadata": {
        "id": "IYvK33AqsvIl",
        "colab_type": "code",
        "colab": {}
      },
      "source": [
        "np.set_printoptions(precision=2)"
      ],
      "execution_count": 0,
      "outputs": []
    },
    {
      "cell_type": "markdown",
      "metadata": {
        "id": "V1-9hBK5svIq",
        "colab_type": "text"
      },
      "source": [
        "## Environment\n",
        "\n"
      ]
    },
    {
      "cell_type": "code",
      "metadata": {
        "id": "2LTjrWiqoXz6",
        "colab_type": "code",
        "colab": {}
      },
      "source": [
        "class Users:\n",
        "    \"\"\"\n",
        "        Google News Users Class. \n",
        "        Init input :\n",
        "            n_sources : int, Number of different sources (news website)\n",
        "            n_themes : int, Number of different themes (7 at the moment on Google News)\n",
        "            n_users : int, Number of Users\n",
        "        Attributes :\n",
        "            all of the above\n",
        "            self.users_data : list, [preferences_sources, preferences_themes, next_log]\n",
        "    \"\"\"\n",
        "    def __init__(self, n_themes, n_sources, n_users):\n",
        "        self.n_users = n_users\n",
        "        self.n_themes = n_themes\n",
        "        self.n_sources = n_sources\n",
        "\n",
        "        self.users_data = None\n",
        "\n",
        "        #Call Maker function\n",
        "        self.make_users_data()\n",
        "\n",
        "    def make_users_data(self):\n",
        "        \"\"\"\n",
        "            Makes up Data on every users.\n",
        "            Each users_data is made of :\n",
        "                preferences_sources : np.array(self.n_users, self.n_sources), stochastic vector \n",
        "                                     embedding user's preferences in regard to an article's theme\n",
        "                preferences_themes : np.array(self.n_users, self.n_sources), stochastic vector \n",
        "                                     embedding user's preferences in regard to an article's source \n",
        "                next_log : int, in how many days will it be before the user next log\n",
        "\n",
        "            Returns Nothing.\n",
        "            Updates self.users_data.\n",
        "        \"\"\"\n",
        "        ##Sources (Uniform for maximum entropy, continuous)\n",
        "        preferences_sources = np.random.rand(self.n_users, self.n_sources)\n",
        "        preferences_sources = preferences_sources / preferences_sources.sum(axis=1)[:,None]\n",
        "\n",
        "        ##Themes (Uniform for maximum entropy, discrete (0-1))\n",
        "        preferences_themes = np.random.randint(0, 2, size=(self.n_users, self.n_themes))\n",
        "        #Stochastic Vector (normalizing)\n",
        "        preferences_themes = preferences_themes / preferences_themes.sum(axis=1)[:,None]\n",
        "\n",
        "        ##Next Log\n",
        "        #On the first iteration, every user will log in the next day\n",
        "        next_log = np.ones((self.n_users, 1))\n",
        "\n",
        "        ##Save up everything\n",
        "        self.users_data = [preferences_themes, preferences_sources, next_log]\n",
        "\n",
        "    def set_next_log(self, index_user, next_log_i):\n",
        "        self.users_data[2][index_user] = next_log_i"
      ],
      "execution_count": 0,
      "outputs": []
    },
    {
      "cell_type": "code",
      "metadata": {
        "id": "XEYTt0iutmlw",
        "colab_type": "code",
        "colab": {}
      },
      "source": [
        "class Items:\n",
        "    \"\"\"\n",
        "        Google News Items (articles) Class.\n",
        "        Init Input :\n",
        "            n_exp : int, Experience Span (in days)\n",
        "            n_articles : int, Number of articles per day\n",
        "            n_sources : int, Number of different sources (news website)\n",
        "            n_themes : int, Number of different themes (7 at the moment on Google news)\n",
        "        Attributes :\n",
        "            all of the above \n",
        "            self.articles : np.array(size=(3, n_exp, n_articles)), [source, theme, hours]\n",
        "    \"\"\"\n",
        "    def __init__(self, n_exp, n_articles, n_themes, n_sources):\n",
        "        self.n_exp = n_exp\n",
        "        self.n_articles = n_articles\n",
        "        self.n_themes = n_themes\n",
        "        self.n_sources = n_sources\n",
        "        self.articles = None\n",
        "        \n",
        "        #Call maker function\n",
        "        self.make_articles()\n",
        "\n",
        "    def make_articles(self):\n",
        "        \"\"\"\n",
        "            Makes up every articles on the whole experience span.\n",
        "            Within a single day, there are n_articles articles. Each article is made of :\n",
        "                hour : int 0-23, Hour at which the article is published\n",
        "                theme : int 0-(n_themes-1), Index of the theme the article belongs to\n",
        "                source : int 0-(n_sources-1), Index of the source the article comes from\n",
        "            Returns Nothing.\n",
        "            Updates self.articles. Expected dimension : (3, n_exp, n_articles)\n",
        "        \"\"\"\n",
        "        ##Themes\n",
        "        #To each day its headline; each day a theme is prevailing over the others\n",
        "        headlines = np.asarray([np.random.randint(0, self.n_themes, self.n_articles)] * self.n_exp)\n",
        "        #Centered on the headline, Normal draw themes for each article of each day\n",
        "        themes = np.random.normal(loc=headlines, scale=1.0, size=(self.n_exp, self.n_articles))\n",
        "        #Make draws positive then rounding them \n",
        "        themes = np.round(np.abs(themes)).astype(int)\n",
        "        np.clip(themes, 0, self.n_themes-1, out=themes)\n",
        "\n",
        "        ##Sources\n",
        "        sources = np.random.randint(0, self.n_sources, size=(self.n_exp, self.n_articles))\n",
        "\n",
        "        ##Date\n",
        "        days = np.arange(self.n_exp)\n",
        "        days = np.tile(days, (100, 1)).T\n",
        "        ##Save up Everything\n",
        "        self.articles = np.asarray([sources, themes, days])"
      ],
      "execution_count": 0,
      "outputs": []
    },
    {
      "cell_type": "code",
      "metadata": {
        "id": "EURYqg2VsvIs",
        "colab_type": "code",
        "colab": {}
      },
      "source": [
        "class GoogleNewsEnv:\n",
        "    \"\"\" \n",
        "        Explicit Feedback for Google News.\n",
        "    \"\"\"\n",
        "    def __init__(self, \n",
        "                 n_exp=30, \n",
        "                 n_articles=100, \n",
        "                 n_themes=7, \n",
        "                 n_sources=7,\n",
        "                 n_users=5,\n",
        "                 tau=72,\n",
        "                 seed=None):\n",
        "        \n",
        "        self.n_exp = n_exp\n",
        "        self.n_articles = n_articles\n",
        "        self.n_themes = n_themes\n",
        "        self.n_sources = n_sources\n",
        "        self.n_users = n_users\n",
        "        self.date = 0\n",
        "        self.tau = tau\n",
        "        self.users = Users(self.n_themes, self.n_sources, self.n_users)\n",
        "        self.items = Items(self.n_exp, n_articles, self.n_themes, self.n_sources)   \n",
        "        \n",
        "        self._rng = np.random.RandomState(seed) \n",
        "        self.next_logs = None\n",
        "        self.hours_users_loggedin = None\n",
        "        self.index_users_loggedin = np.argwhere(self.users.users_data[2] == 0)\n",
        "        self.done = False\n",
        "        self._next_state()\n",
        "                \n",
        "\n",
        "    def step(self, action):\n",
        "        # check if behind done\n",
        "        if self.done: #self.date >= self.n_exp:\n",
        "            print(\"You are calling step after it return done=True.\\n\"\n",
        "                  \"You should reset the environment.\")\n",
        "\n",
        "        self.action = action\n",
        "\n",
        "        # compute potential rewards\n",
        "        potential_rewards = self.compute_best_reward()\n",
        "        optimal_return = np.max(potential_rewards)\n",
        "\n",
        "        # compute reward associated with action\n",
        "        self.reward = self.compute_reward(action)\n",
        "\n",
        "        # when will the users will come back\n",
        "        self.update_next_logs()\n",
        "        \n",
        "        # check if done\n",
        "        if self.date == self.n_exp:\n",
        "            self.done = True\n",
        "\n",
        "        # compute next state S_{t+1}\n",
        "        self._next_state()\n",
        "\n",
        "        return self.reward, self.state, self.done, optimal_return\n",
        "\n",
        "    def update_next_logs(self):\n",
        "        for index_user, _ in enumerate(self.index_users_loggedin):\n",
        "            self.users.set_next_log(index_user, self.next_logs[index_user])\n",
        "\n",
        "    def compute_reward(self, action):        \n",
        "        lambdas_list = []\n",
        "        k = 0\n",
        "        for index_user in self.index_users_loggedin:\n",
        "            for coords in action.T:\n",
        "                lambda_temp = 1 / (1 + 5 * self.users.users_data[0][index_user][self.state[0][coords[0]][coords[1]]] + 5 * self.users.users_data[1][index_user][self.state[1][coords[0]][coords[1]]])\n",
        "                lambda_temp *= 10 * (1 - np.exp(- np.random.randint(23) + 24 * np.abs(self.date - self.state[2][coords[0]][0]) / self.tau)) #Drawing random in to emulate hour distribution\n",
        "                lambdas_list.append(lambda_temp)\n",
        "\n",
        "        next_logs = np.random.poisson(np.clip(np.asarray(lambdas_list).astype(np.float64), 0.1, 15),  size=(1, len(lambdas_list)))\n",
        "        self.next_logs = next_logs.reshape(-1)\n",
        "\n",
        "        reward = 1 / (next_logs.sum() + 1)**2\n",
        "        return reward\n",
        "\n",
        "    def compute_best_reward(self):\n",
        "        best_logs = []\n",
        "        return 1 \n",
        "        for index_user in self.index_users_loggedin:\n",
        "            lambda_list_temp = []\n",
        "            for j in range(env.state.shape[1]):\n",
        "                for k in range(env.state.shape[2]):\n",
        "                    lambda_temp = 1 / (1 + 5 * self.users.users_data[0][index_user][self.state[0][j][k]] + 5 * self.users.users_data[1][index_user][self.state[1][j][k]])\n",
        "                    lambda_temp *= 10 * (1 - np.exp(- np.random.randint(23) + 24 * np.abs(self.date - self.state[2][j][0]) / self.tau))\n",
        "                    lambda_list_temp.append(lambda_temp, 15)\n",
        "            next_logs_temp = np.random.poisson(np.clip(np.asarray(lambda_list_temp).astype(np.float64), 0.1, 15),  size=(1, len(lambda_list_temp)))\n",
        "            best_logs.append(min(next_logs_temp, 0))\n",
        "            print(min(next_logs_temp))\n",
        "\n",
        "        reward = 1\n",
        "        return reward\n",
        "\n",
        "    def reset(self, seed=None):\n",
        "        self._rng = np.random.RandomState(seed)\n",
        "        self.date = 0\n",
        "        self.done = False\n",
        "\n",
        "        self.users = Users(self.n_themes, self.n_sources, self.n_users)\n",
        "        self.items = Items(self.n_exp, self.n_articles, self.n_themes, self.n_sources)\n",
        "\n",
        "        self._next_state()\n",
        "        return self.state\n",
        "\n",
        "    def _next_state(self):\n",
        "        #Time flies\n",
        "        self.date += 1\n",
        "        self.users.users_data[2] = self.users.users_data[2] - 1\n",
        "\n",
        "        #Which users are logging in ?\n",
        "        self.index_users_loggedin = np.argwhere(self.users.users_data[2] == 0)[:, 0]\n",
        "\n",
        "        #We consider articles from a 3 - day span\n",
        "        lower_bound = max(0, self.date - 3)\n",
        "        context = self.items.articles[:, lower_bound:self.date, :]\n",
        "        self.state = context"
      ],
      "execution_count": 0,
      "outputs": []
    },
    {
      "cell_type": "code",
      "metadata": {
        "id": "AQnSMtjJMD_s",
        "colab_type": "code",
        "colab": {}
      },
      "source": [
        "env = GoogleNewsEnv()"
      ],
      "execution_count": 0,
      "outputs": []
    },
    {
      "cell_type": "code",
      "metadata": {
        "id": "YeDcVwAhMGox",
        "colab_type": "code",
        "colab": {}
      },
      "source": [
        "##############################################\n",
        "#CONTEXTE : Tous les articles disponibles pour chacun des 5 users [source, theme, hours]\n",
        "print(env.state)\n",
        "print(len(env.state))"
      ],
      "execution_count": 0,
      "outputs": []
    },
    {
      "cell_type": "markdown",
      "metadata": {
        "id": "DRP015hlsvJX",
        "colab_type": "text"
      },
      "source": [
        "## Agent"
      ]
    },
    {
      "cell_type": "code",
      "metadata": {
        "id": "PYCzNvjgsvJY",
        "colab_type": "code",
        "colab": {}
      },
      "source": [
        "class Random:\n",
        "    \"\"\" Random agent. \"\"\"\n",
        "    def __init__(self, nb_arms, seed=None):\n",
        "        self._nb_arms = nb_arms\n",
        "        self._rng = np.random.RandomState(seed)\n",
        "        \n",
        "    def act(self, context, nb_tirages):\n",
        "        actions_j = self._rng.randint(context.shape[1], size = (1, nb_tirages)) # note that action size is changing\n",
        "        actions_k = self._rng.randint(context.shape[2], size = (1, nb_tirages))\n",
        "        actions = np.concatenate((actions_j, actions_k))\n",
        "        return actions\n",
        "        \n",
        "    def update(self, context, action, reward):\n",
        "        pass"
      ],
      "execution_count": 0,
      "outputs": []
    },
    {
      "cell_type": "code",
      "metadata": {
        "id": "Mg-hxlMGsvJc",
        "colab_type": "code",
        "colab": {}
      },
      "source": [
        "agent = Random(None, seed=2020)"
      ],
      "execution_count": 0,
      "outputs": []
    },
    {
      "cell_type": "code",
      "metadata": {
        "id": "lhGufo0UoHfx",
        "colab_type": "code",
        "colab": {}
      },
      "source": [
        "class EpsilonGreedy:\n",
        "    \"\"\" Epsilon greedy agent. \"\"\"\n",
        "    def __init__(self, context, epsilon=0, seed=None):\n",
        "        self._epsilon = epsilon\n",
        "        self._rng = np.random.RandomState(seed)\n",
        "        self._q = np.zeros(size=context.shape)\n",
        "        self._n = np.zeros(size=context.shape)\n",
        "\n",
        "    def act(self, context):\n",
        "        if self._rng.rand() < self._epsilon:\n",
        "            actions_j = self._rng.randint(context.shape[1], size = (1, nb_tirages)) # note that action size is changing\n",
        "            actions_k = self._rng.randint(context.shape[2], size = (1, nb_tirages))\n",
        "            actions = np.concatenate((actions_j, actions_k))\n",
        "        else:\n",
        "            action = random_argmax(self._rng, self._q)\n",
        "        return action\n",
        "\n",
        "    def update(self,context, action, reward):\n",
        "        self._n[action] += 1\n",
        "        self._q[action] += (reward - self._q[action])/self._n[action]"
      ],
      "execution_count": 0,
      "outputs": []
    },
    {
      "cell_type": "markdown",
      "metadata": {
        "id": "InUtsj__svJl",
        "colab_type": "text"
      },
      "source": [
        "## Run experiment"
      ]
    },
    {
      "cell_type": "code",
      "metadata": {
        "id": "O-HJw3DasvJn",
        "colab_type": "code",
        "colab": {}
      },
      "source": [
        "def run_exp(agent, env, nb_steps, env_seed):\n",
        "    rewards = np.zeros(nb_steps)\n",
        "    regrets = np.zeros(nb_steps)\n",
        "    actions = np.zeros(nb_steps)\n",
        "    context = env.reset(env_seed)\n",
        "    nb_tirages = env.index_users_loggedin.shape[0]\n",
        "    for i in range(nb_steps):\n",
        "        # Select action from agent policy.\n",
        "        action = agent.act(context, nb_tirages)\n",
        "        \n",
        "        # Play action in the environment and get reward.\n",
        "        reward, next_context, done, optimal_return = env.step(action)\n",
        "        \n",
        "        # Update history\n",
        "        rating = reward\n",
        "        \n",
        "        # Update agent.\n",
        "        agent.update(context, action, reward)\n",
        "        context = next_context\n",
        "        nb_tirages = env.index_users_loggedin.shape[0]\n",
        "        \n",
        "        # Save history.\n",
        "        #context[i] = context\n",
        "        rewards[i] = reward\n",
        "        regrets[i] = optimal_return - reward\n",
        "\n",
        "    reward = rewards.sum()\n",
        "    regret = np.sum(regrets)\n",
        "    return {'reward': reward, \n",
        "            'regret': regret,\n",
        "            'rewards': rewards,\n",
        "            'regrets': regrets,\n",
        "            'cum_rewards': np.cumsum(rewards), \n",
        "            'cum_regrets': np.cumsum(regrets)\n",
        "            }\n"
      ],
      "execution_count": 0,
      "outputs": []
    },
    {
      "cell_type": "markdown",
      "metadata": {
        "id": "ideihO6vsvJr",
        "colab_type": "text"
      },
      "source": [
        "#### Example\n",
        "Let's run our previous agent and environment 100 times."
      ]
    },
    {
      "cell_type": "code",
      "metadata": {
        "id": "wDzNL3DXsvJt",
        "colab_type": "code",
        "outputId": "1eb6d810-a9ad-4cf1-840c-1db57e3e4860",
        "colab": {
          "base_uri": "https://localhost:8080/",
          "height": 221
        }
      },
      "source": [
        "env = GoogleNewsEnv()\n",
        "run_exp(agent, env, nb_steps=15, env_seed=2020)"
      ],
      "execution_count": 133,
      "outputs": [
        {
          "output_type": "execute_result",
          "data": {
            "text/plain": [
              "{'cum_regrets': array([1.  , 1.75, 2.73, 2.73, 2.73, 2.73, 3.67, 3.67, 4.66, 5.64, 5.64,\n",
              "        5.64, 5.64, 5.64, 5.64]),\n",
              " 'cum_rewards': array([5.25e-05, 2.50e-01, 2.70e-01, 1.27e+00, 2.27e+00, 3.27e+00,\n",
              "        3.33e+00, 4.33e+00, 4.34e+00, 4.36e+00, 5.36e+00, 6.36e+00,\n",
              "        7.36e+00, 8.36e+00, 9.36e+00]),\n",
              " 'regret': 5.639686719048048,\n",
              " 'regrets': array([1.  , 0.75, 0.98, 0.  , 0.  , 0.  , 0.94, 0.  , 0.99, 0.98, 0.  ,\n",
              "        0.  , 0.  , 0.  , 0.  ]),\n",
              " 'reward': 9.360313280951953,\n",
              " 'rewards': array([5.25e-05, 2.50e-01, 2.04e-02, 1.00e+00, 1.00e+00, 1.00e+00,\n",
              "        6.25e-02, 1.00e+00, 6.94e-03, 2.04e-02, 1.00e+00, 1.00e+00,\n",
              "        1.00e+00, 1.00e+00, 1.00e+00])}"
            ]
          },
          "metadata": {
            "tags": []
          },
          "execution_count": 133
        }
      ]
    },
    {
      "cell_type": "code",
      "metadata": {
        "id": "upj2papOsvKG",
        "colab_type": "code",
        "colab": {}
      },
      "source": [
        "nb_exp = 15\n",
        "nb_steps = 15\n",
        "regret = np.zeros(nb_exp)\n",
        "regrets = np.zeros((nb_exp, nb_steps))\n",
        "for i in range(nb_exp):\n",
        "    env = GoogleNewsEnv()\n",
        "    agent = Random(None, seed=i)\n",
        "    exp = run_exp(agent, env, nb_steps, env_seed=i)\n",
        "    regret[i] = exp['regret'] \n",
        "    regrets[i] = exp['cum_regrets']"
      ],
      "execution_count": 0,
      "outputs": []
    },
    {
      "cell_type": "code",
      "metadata": {
        "id": "A1uNWhh9svKL",
        "colab_type": "code",
        "outputId": "e7362c8d-4cda-4ebb-83bb-7c1b752f91e0",
        "colab": {
          "base_uri": "https://localhost:8080/",
          "height": 295
        }
      },
      "source": [
        "plt.plot(regrets.mean(axis=0), color='blue')\n",
        "plt.plot(np.quantile(regrets, 0.05,axis=0), color='grey', alpha=0.5)\n",
        "plt.plot(np.quantile(regrets, 0.95,axis=0), color='grey', alpha=0.5)\n",
        "plt.title('Mean regret: {:.2f}'.format(regret.mean()))\n",
        "plt.xlabel('steps')\n",
        "plt.ylabel('regret')\n",
        "plt.show()"
      ],
      "execution_count": 160,
      "outputs": [
        {
          "output_type": "display_data",
          "data": {
            "image/png": "[encoded data removed]",
            "text/plain": [
              "<Figure size 432x288 with 1 Axes>"
            ]
          },
          "metadata": {
            "tags": []
          }
        }
      ]
    },
    {
      "cell_type": "code",
      "metadata": {
        "id": "xgzhci3fohV-",
        "colab_type": "code",
        "colab": {}
      },
      "source": [
        ""
      ],
      "execution_count": 0,
      "outputs": []
    }
  ]
}